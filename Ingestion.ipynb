{
 "cells": [
  {
   "cell_type": "code",
   "execution_count": 4,
   "outputs": [],
   "source": [
    "import requests\n",
    "import pandas as pd\n",
    "import sqlite3\n",
    "import numpy as np\n",
    "from io import StringIO, BytesIO\n",
    "import glob\n",
    "import os\n",
    "import boto3\n",
    "import json"
   ],
   "metadata": {
    "collapsed": false,
    "ExecuteTime": {
     "end_time": "2024-05-31T13:25:12.259626300Z",
     "start_time": "2024-05-31T13:25:12.076529300Z"
    }
   },
   "id": "4cd672048a92ea9e"
  },
  {
   "cell_type": "markdown",
   "source": [
    "#### Instructions:\n",
    "1. Change AWS hardcoded credentials\n",
    "2. Change the subset to your own subset\n",
    "3. RUn the code"
   ],
   "metadata": {
    "collapsed": false
   },
   "id": "e7a4e7a28aac94aa"
  },
  {
   "cell_type": "markdown",
   "source": [
    "#### Creating Company Data DF"
   ],
   "metadata": {
    "collapsed": false
   },
   "id": "1020ac44799bb480"
  },
  {
   "cell_type": "code",
   "execution_count": 5,
   "outputs": [],
   "source": [
    "headers = {'User-Agent': \"felix.agosto@bts.tech\"}\n",
    "\n",
    "companyTickers = requests.get(\"https://www.sec.gov/files/company_tickers.json\", headers = headers)\n",
    "companyData = pd.DataFrame.from_dict(companyTickers.json(), orient = 'index')\n",
    "# We need to add zeros because some CIKs differ in digits and the API needs 10 digit CIK. \n",
    "companyData['cik_str'] = companyData['cik_str'].astype(str).str.zfill(10)"
   ],
   "metadata": {
    "collapsed": false,
    "ExecuteTime": {
     "end_time": "2024-05-31T13:25:15.401894400Z",
     "start_time": "2024-05-31T13:25:14.648126300Z"
    }
   },
   "id": "1191a227d7ca651d"
  },
  {
   "cell_type": "markdown",
   "source": [
    "#### Creating temporary tickers"
   ],
   "metadata": {
    "collapsed": false
   },
   "id": "ccfeb45adb9566d1"
  },
  {
   "cell_type": "markdown",
   "source": [
    "#### Function:\n",
    "- Insert AWS Keys when using."
   ],
   "metadata": {
    "collapsed": false
   },
   "id": "af49e8bc15838b59"
  },
  {
   "cell_type": "code",
   "execution_count": 53,
   "outputs": [],
   "source": [
    "def processDF(tickers, companyData, s3_bucket):\n",
    "    s3 = boto3.client(\"s3\",\n",
    "                      aws_access_key_id=\"\",aws_secret_access_key=\"\",\n",
    "                      aws_session_token=\"\")\n",
    "    \n",
    "    for ticker in tickers:\n",
    "        try:\n",
    "            # Retrieve the CIK value corresponding to the ticker\n",
    "            try:\n",
    "                cik_val = str(companyData.loc[companyData['ticker'] == ticker, 'cik_str'].values[0])\n",
    "            except IndexError:\n",
    "                print(f\"{ticker} not found in Company Data\")\n",
    "                continue\n",
    "\n",
    "            # Fetch financial data for the company from EDGAR\n",
    "            print(f\"Successful CIK extraction for {ticker}\")\n",
    "            response = requests.get(f'https://data.sec.gov/api/xbrl/companyfacts/CIK{cik_val}.json', headers = {'User-Agent': \"felix.agosto@bts.tech\"})\n",
    "            \n",
    "            # Check if the request was successful\n",
    "            response.raise_for_status()\n",
    "            \n",
    "            # Convert JSON response to dictionary\n",
    "            companyFacts = response.json()\n",
    "            json_str=json.dumps(companyFacts)\n",
    "            json_bytes=json_str.encode(\"utf-8\")\n",
    "            print(\"Successfully converted to json bytes\")\n",
    "            \n",
    "            # Preparing the JSON for s3 upload\n",
    "            json_buffer=BytesIO()\n",
    "            json_buffer.write(json_bytes)\n",
    "            json_buffer.seek(0)\n",
    "            \n",
    "            # Defining the s3 bucket location.\n",
    "            s3_file_path = f\"edgar_data/{ticker}.json\"\n",
    "            \n",
    "            #Upload to S3 bucket\n",
    "            s3.upload_fileobj(json_buffer, s3_bucket, s3_file_path)\n",
    "            print(f\"Data for {ticker} uploaded to S3: {s3_file_path}\")\n",
    "                \n",
    "        except KeyError:\n",
    "            print(f\"{ticker} not found in Company Data\")\n",
    "        except requests.HTTPError as e:\n",
    "            print(f\"HTTP error for {ticker}: {e}\")\n",
    "        except requests.RequestException as e:\n",
    "            print(f\"Request exception for {ticker}: {e}\")"
   ],
   "metadata": {
    "collapsed": false,
    "ExecuteTime": {
     "end_time": "2024-05-30T17:19:35.434003900Z",
     "start_time": "2024-05-30T17:19:35.427901800Z"
    }
   },
   "id": "aa69ca2f12b6ea07"
  },
  {
   "cell_type": "code",
   "execution_count": null,
   "outputs": [],
   "source": [
    "# Dividing the dataset in three parts. \n",
    "sub_Jose=companyData[:2572]\n",
    "sub_Karen=companyData[2572:5144]\n",
    "sub_Felix=companyData[5144:7716]\n",
    "sub_Arturo=companyData[7716:]"
   ],
   "metadata": {
    "collapsed": false
   },
   "id": "c3213c8fcc23193b"
  },
  {
   "cell_type": "code",
   "execution_count": 54,
   "outputs": [
    {
     "name": "stdout",
     "output_type": "stream",
     "text": [
      "Successful CIK extraction for MSFT\n",
      "Successfully converted to json bytes\n",
      "Data for MSFT uploaded to S3: edgar_data/MSFT.json\n",
      "Successful CIK extraction for AAPL\n",
      "Successfully converted to json bytes\n",
      "Data for AAPL uploaded to S3: edgar_data/AAPL.json\n",
      "Successful CIK extraction for NVDA\n",
      "Successfully converted to json bytes\n",
      "Data for NVDA uploaded to S3: edgar_data/NVDA.json\n"
     ]
    }
   ],
   "source": [
    "#tickers = list(YOUR_SUBSET['ticker'])\n",
    "tickers = list(sub_Jose['ticker'])\n",
    "\n",
    "# Run the Ingestion Function\n",
    "processDF(tickers, companyData, \"bucket-name\")"
   ],
   "metadata": {
    "collapsed": false,
    "ExecuteTime": {
     "end_time": "2024-05-30T17:20:02.533979600Z",
     "start_time": "2024-05-30T17:19:35.690875100Z"
    }
   },
   "id": "9eb97a929b08f1f1"
  }
 ],
 "metadata": {
  "kernelspec": {
   "display_name": "Python 3",
   "language": "python",
   "name": "python3"
  },
  "language_info": {
   "codemirror_mode": {
    "name": "ipython",
    "version": 2
   },
   "file_extension": ".py",
   "mimetype": "text/x-python",
   "name": "python",
   "nbconvert_exporter": "python",
   "pygments_lexer": "ipython2",
   "version": "2.7.6"
  }
 },
 "nbformat": 4,
 "nbformat_minor": 5
}
