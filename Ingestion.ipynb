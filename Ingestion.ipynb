{
 "cells": [
  {
   "cell_type": "markdown",
   "id": "e7a4e7a28aac94aa",
   "metadata": {
    "collapsed": false,
    "jupyter": {
     "outputs_hidden": false
    }
   },
   "source": [
    "#### Instructions:\n",
    "1. Have the .env file updated in your current directory \n",
    "2. Change your email in the user_agent\n",
    "3. Change the subset to your own subset\n",
    "4. Run the code"
   ]
  },
  {
   "cell_type": "code",
   "execution_count": 1,
   "id": "4cd672048a92ea9e",
   "metadata": {
    "ExecuteTime": {
     "end_time": "2024-05-31T13:25:12.259626300Z",
     "start_time": "2024-05-31T13:25:12.076529300Z"
    },
    "collapsed": false,
    "jupyter": {
     "outputs_hidden": false
    }
   },
   "outputs": [],
   "source": [
    "import requests\n",
    "import pandas as pd\n",
    "import sqlite3\n",
    "import numpy as np\n",
    "from io import StringIO, BytesIO\n",
    "import glob\n",
    "import os\n",
    "import boto3\n",
    "import json\n",
    "\n",
    "import os\n",
    "from dotenv import load_dotenv\n",
    "\n",
    "from datetime import date"
   ]
  },
  {
   "cell_type": "markdown",
   "id": "8be677db-fcad-4ffc-a140-d35a2dd14eaa",
   "metadata": {},
   "source": [
    "#### change your email"
   ]
  },
  {
   "cell_type": "code",
   "execution_count": 2,
   "id": "388c28c3-55cb-454c-9a39-fc5983db7dd1",
   "metadata": {},
   "outputs": [],
   "source": [
    "user_agent = \"jose.trindade@bts.tech\" # Change your email"
   ]
  },
  {
   "cell_type": "markdown",
   "id": "54e3d46c-81e0-4537-9a88-b81052b0df40",
   "metadata": {},
   "source": [
    "### Loading the aws credentials as env variables "
   ]
  },
  {
   "cell_type": "code",
   "execution_count": 3,
   "id": "cc4fc92f-345a-4266-a954-c19c824d77c1",
   "metadata": {},
   "outputs": [],
   "source": [
    "today_date = str(date.today())\n",
    "\n",
    "# loading variables from .env file\n",
    "load_dotenv() \n",
    "\n",
    "# accessing and printing value\n",
    "aws_access_key_id = os.getenv(\"aws_access_key_id\")\n",
    "aws_secret_access_key = os.getenv(\"aws_secret_access_key\")\n",
    "aws_session_token = os.getenv(\"aws_session_token\")\n",
    "s3_bucket = \"financy\""
   ]
  },
  {
   "cell_type": "markdown",
   "id": "1020ac44799bb480",
   "metadata": {
    "collapsed": false,
    "jupyter": {
     "outputs_hidden": false
    }
   },
   "source": [
    "#### Getting all the tickers available in the EDGAR Database"
   ]
  },
  {
   "cell_type": "code",
   "execution_count": 4,
   "id": "1191a227d7ca651d",
   "metadata": {
    "ExecuteTime": {
     "end_time": "2024-05-31T13:25:15.401894400Z",
     "start_time": "2024-05-31T13:25:14.648126300Z"
    },
    "collapsed": false,
    "jupyter": {
     "outputs_hidden": false
    }
   },
   "outputs": [],
   "source": [
    "headers = {'User-Agent': user_agent}\n",
    "\n",
    "companyTickers = requests.get(\"https://www.sec.gov/files/company_tickers.json\", headers = headers)\n",
    "companyData = pd.DataFrame.from_dict(companyTickers.json(), orient = 'index')\n",
    "# We need to add zeros because some CIKs differ in digits and the API needs 10 digit CIK. \n",
    "companyData['cik_str'] = companyData['cik_str'].astype(str).str.zfill(10)"
   ]
  },
  {
   "cell_type": "markdown",
   "id": "ccfeb45adb9566d1",
   "metadata": {
    "collapsed": false,
    "jupyter": {
     "outputs_hidden": false
    }
   },
   "source": [
    "#### Diving computational power among the group\n",
    "Each member will run the code"
   ]
  },
  {
   "cell_type": "code",
   "execution_count": 5,
   "id": "c3213c8fcc23193b",
   "metadata": {
    "collapsed": false,
    "jupyter": {
     "outputs_hidden": false
    }
   },
   "outputs": [],
   "source": [
    "# Dividing the dataset in three parts. \n",
    "sub_Jose=companyData[:2572]\n",
    "sub_Karen=companyData[2572:5144]\n",
    "sub_Felix=companyData[5144:7716]\n",
    "sub_Arturo=companyData[7716:]"
   ]
  },
  {
   "cell_type": "markdown",
   "id": "af49e8bc15838b59",
   "metadata": {
    "collapsed": false,
    "jupyter": {
     "outputs_hidden": false
    }
   },
   "source": [
    "#### From EDGAR Database to private s3_bucket\n",
    "Function to pull company data from the API and upload it directly to s3"
   ]
  },
  {
   "cell_type": "code",
   "execution_count": 6,
   "id": "aa69ca2f12b6ea07",
   "metadata": {
    "ExecuteTime": {
     "end_time": "2024-05-30T17:19:35.434003900Z",
     "start_time": "2024-05-30T17:19:35.427901800Z"
    },
    "collapsed": false,
    "jupyter": {
     "outputs_hidden": false
    }
   },
   "outputs": [],
   "source": [
    "def processDF(tickers, companyData, s3_bucket):\n",
    "    s3 = boto3.client(\"s3\",\n",
    "                      aws_access_key_id=aws_access_key_id,\n",
    "                      aws_secret_access_key=aws_secret_access_key,\n",
    "                      aws_session_token=aws_session_token)\n",
    "    \n",
    "    for ticker in tickers:\n",
    "        try:\n",
    "            # Retrieve the CIK value corresponding to the ticker\n",
    "            try:\n",
    "                cik_val = str(companyData.loc[companyData['ticker'] == ticker, 'cik_str'].values[0])\n",
    "            except IndexError:\n",
    "                print(f\"{ticker} not found in Company Data\")\n",
    "                continue\n",
    "\n",
    "            # Fetch financial data for the company from EDGAR\n",
    "            print(f\"Successful CIK extraction for {ticker}\")\n",
    "            response = requests.get(f'https://data.sec.gov/api/xbrl/companyfacts/CIK{cik_val}.json', headers = {'User-Agent': \"felix.agosto@bts.tech\"})\n",
    "            \n",
    "            # Check if the request was successful\n",
    "            response.raise_for_status()\n",
    "            \n",
    "            # Convert JSON response to dictionary\n",
    "            companyFacts = response.json()\n",
    "            json_str=json.dumps(companyFacts)\n",
    "            json_bytes=json_str.encode(\"utf-8\")\n",
    "            print(\"Successfully converted to json bytes\")\n",
    "            \n",
    "            # Preparing the JSON for s3 upload\n",
    "            json_buffer=BytesIO()\n",
    "            json_buffer.write(json_bytes)\n",
    "            json_buffer.seek(0)\n",
    "            \n",
    "            # Defining the s3 bucket location.\n",
    "            s3_file_path = f\"egdar_data/raw/{today_date}/{ticker}.json\"\n",
    "            \n",
    "            #Upload to S3 bucket\n",
    "            s3.upload_fileobj(json_buffer, s3_bucket, s3_file_path)\n",
    "            print(f\"Data for {ticker} uploaded to S3: {s3_file_path}\")\n",
    "                \n",
    "        except KeyError:\n",
    "            print(f\"{ticker} not found in Company Data\")\n",
    "        except requests.HTTPError as e:\n",
    "            print(f\"HTTP error for {ticker}: {e}\")\n",
    "        except requests.RequestException as e:\n",
    "            print(f\"Request exception for {ticker}: {e}\")"
   ]
  },
  {
   "cell_type": "markdown",
   "id": "98731b3c-0a82-4b11-b1f9-363eadc08b18",
   "metadata": {},
   "source": [
    "#### Running the code - Change your sub_section of data!\n",
    "sub_section options:\n",
    "sub_Jose;\n",
    "sub_Karen;\n",
    "sub_Felix;\n",
    "sub_Arturo"
   ]
  },
  {
   "cell_type": "code",
   "execution_count": 7,
   "id": "9b7b29a8-9bfd-4d5d-872f-84eafd45492d",
   "metadata": {},
   "outputs": [],
   "source": [
    "sub_section = sub_Jose # HERE!"
   ]
  },
  {
   "cell_type": "code",
   "execution_count": null,
   "id": "9eb97a929b08f1f1",
   "metadata": {
    "ExecuteTime": {
     "end_time": "2024-05-30T17:20:02.533979600Z",
     "start_time": "2024-05-30T17:19:35.690875100Z"
    },
    "collapsed": false,
    "jupyter": {
     "outputs_hidden": false
    }
   },
   "outputs": [
    {
     "name": "stdout",
     "output_type": "stream",
     "text": [
      "Successful CIK extraction for MSFT\n",
      "Successfully converted to json bytes\n",
      "Data for MSFT uploaded to S3: egdar_data/raw/2024-05-31/MSFT.json\n",
      "Successful CIK extraction for AAPL\n"
     ]
    }
   ],
   "source": [
    "tickers = list(sub_section['ticker'])\n",
    "\n",
    "# Run the Ingestion Function\n",
    "processDF(tickers, companyData, s3_bucket)"
   ]
  }
 ],
 "metadata": {
  "kernelspec": {
   "display_name": "Python 3 (ipykernel)",
   "language": "python",
   "name": "python3"
  },
  "language_info": {
   "codemirror_mode": {
    "name": "ipython",
    "version": 3
   },
   "file_extension": ".py",
   "mimetype": "text/x-python",
   "name": "python",
   "nbconvert_exporter": "python",
   "pygments_lexer": "ipython3",
   "version": "3.11.7"
  }
 },
 "nbformat": 4,
 "nbformat_minor": 5
}
