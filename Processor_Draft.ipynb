{
 "cells": [
  {
   "cell_type": "code",
   "execution_count": 1,
   "outputs": [
    {
     "ename": "ModuleNotFoundError",
     "evalue": "No module named 'psycopg2'",
     "output_type": "error",
     "traceback": [
      "\u001B[1;31m---------------------------------------------------------------------------\u001B[0m",
      "\u001B[1;31mModuleNotFoundError\u001B[0m                       Traceback (most recent call last)",
      "Cell \u001B[1;32mIn[1], line 5\u001B[0m\n\u001B[0;32m      3\u001B[0m \u001B[38;5;28;01mimport\u001B[39;00m \u001B[38;5;21;01mboto3\u001B[39;00m\n\u001B[0;32m      4\u001B[0m \u001B[38;5;28;01mimport\u001B[39;00m \u001B[38;5;21;01mpandas\u001B[39;00m \u001B[38;5;28;01mas\u001B[39;00m \u001B[38;5;21;01mpd\u001B[39;00m\n\u001B[1;32m----> 5\u001B[0m \u001B[38;5;28;01mimport\u001B[39;00m \u001B[38;5;21;01mpsycopg2\u001B[39;00m\n\u001B[0;32m      6\u001B[0m \u001B[38;5;28;01mfrom\u001B[39;00m \u001B[38;5;21;01mdotenv\u001B[39;00m \u001B[38;5;28;01mimport\u001B[39;00m load_dotenv\n\u001B[0;32m      7\u001B[0m \u001B[38;5;28;01mfrom\u001B[39;00m \u001B[38;5;21;01mio\u001B[39;00m \u001B[38;5;28;01mimport\u001B[39;00m StringIO\n",
      "\u001B[1;31mModuleNotFoundError\u001B[0m: No module named 'psycopg2'"
     ]
    }
   ],
   "source": [
    "import os\n",
    "import logging\n",
    "import boto3\n",
    "import pandas as pd\n",
    "import psycopg2\n",
    "from dotenv import load_dotenv\n",
    "from io import StringIO\n",
    "import pandas as pd\n",
    "import numpy as np"
   ],
   "metadata": {
    "collapsed": false,
    "ExecuteTime": {
     "end_time": "2024-06-02T13:35:59.834135Z",
     "start_time": "2024-06-02T13:35:59.076018600Z"
    }
   },
   "id": "c34f7fd23cc5de8b"
  },
  {
   "cell_type": "code",
   "execution_count": null,
   "outputs": [],
   "source": [
    "# Set up environment variables\n",
    "\n",
    "# Configure logging\n",
    "logging.basicConfig(level=logging.INFO, format='%(asctime)s - %(levelname)s - %(message)s')\n",
    "\n",
    "# Load environment variables from .env file\n",
    "load_dotenv()\n",
    "\n",
    "# Access environment variables\n",
    "DB_USERNAME = os.getenv('BDI_DB_USERNAME')\n",
    "DB_PASSWORD = os.getenv('BDI_DB_PASSWORD')\n",
    "DB_HOST = os.getenv('BDI_DB_HOST')\n",
    "DB_PORT = os.getenv('BDI_DB_PORT', '5432')\n",
    "DB_NAME = os.getenv('BDI_DB_NAME', 'postgres')\n",
    "AWS_REGION = os.getenv('AWS_REGION')\n",
    "S3_BUCKET = 'financy-ai'\n",
    "S3_PREFIX = 'financy'"
   ],
   "metadata": {
    "collapsed": false
   },
   "id": "c942bcd9a4918ffb"
  },
  {
   "cell_type": "code",
   "execution_count": null,
   "outputs": [],
   "source": [
    "# AWS S3 client\n",
    "s3_client = boto3.client('s3', region_name=AWS_REGION)"
   ],
   "metadata": {
    "collapsed": false
   },
   "id": "37cdabda7c0f210e"
  },
  {
   "cell_type": "code",
   "execution_count": 2,
   "outputs": [],
   "source": [
    "def read_json_from_s3(bucket_name, prefix):\n",
    "    try:\n",
    "        # List files in the specified bucket with the specified prefix\n",
    "        response = s3_client.list_objects_v2(Bucket=bucket_name, Prefix=prefix)\n",
    "        files = [file['Key'] for file in response['Contents'] if file['Key'].endswith('.json')]\n",
    "        \n",
    "        if not files:\n",
    "            logging.info(\"No JSON files found in the bucket.\")\n",
    "            return None\n",
    "        \n",
    "        # Processing the fist JSON file found\n",
    "        json_file_key = files[0]\n",
    "        json_object = s3_client.get_object(Bucket=bucket_name, Key=json_file_key)\n",
    "        json_data = json_object['Body'].read().decode('utf-8')\n",
    "        \n",
    "        # Load JSON data into Python dictionary\n",
    "        data = json.loads(json_data)\n",
    "        \n",
    "        # Convert to DataFrame if JSON data is structured for tabular format\n",
    "        if isinstance(data, list):  # Check if data is a list of dictionaries\n",
    "            df = pd.DataFrame(data)\n",
    "            logging.info(f\"JSON data from {json_file_key} loaded into DataFrame.\")\n",
    "            return df\n",
    "        else:\n",
    "            logging.info(f\"JSON data from {json_file_key} loaded as dictionary.\")\n",
    "            return data\n",
    "    except Exception as e:\n",
    "        logging.error(\"Error reading JSON from S3: \", exc_info=True)\n",
    "        return None"
   ],
   "metadata": {
    "collapsed": false,
    "ExecuteTime": {
     "end_time": "2024-06-03T09:39:19.296735900Z",
     "start_time": "2024-06-03T09:39:19.284085400Z"
    }
   },
   "id": "ea7b33b659668024"
  },
  {
   "cell_type": "code",
   "execution_count": null,
   "outputs": [],
   "source": [
    "def json_to_postgres(df: pd.DataFrame, ticker: str) -> str:\n",
    "    try:\n",
    "        logging.info(\"Connecting to the PostgreSQL database...\")\n",
    "        conn = psycopg2.connect(**db_credentials)\n",
    "        cur = conn.cursor()\n",
    "        logging.info(\"Successfully connected to the database.\")\n",
    "\n",
    "        # Create table name dynamically based on ticker\n",
    "        table_name = f\"{ticker.lower()}\"\n",
    "        logging.info(f\"Preparing to create or confirm existence of table '{table_name}'.\")\n",
    "\n",
    "        # Define the SQL for table creation\n",
    "        create_table_query = f\"\"\"\n",
    "            CREATE TABLE IF NOT EXISTS {table_name} (\n",
    "                \"id\" SERIAL PRIMARY KEY,\n",
    "                \"end\" DATE,\n",
    "                \"val\" BIGINT,\n",
    "                \"accn\" VARCHAR(255),\n",
    "                \"fy\" VARCHAR(10),\n",
    "                \"fp\" VARCHAR(10),\n",
    "                \"form\" VARCHAR(10),\n",
    "                \"filed\" DATE,\n",
    "                \"frame\" VARCHAR(255),\n",
    "                \"ticker\" VARCHAR(10),\n",
    "                \"type\" VARCHAR(255),\n",
    "                \"start\" DATE\n",
    "            );\n",
    "        \"\"\"\n",
    "        cur.execute(create_table_query)\n",
    "        logging.info(f\"Table '{table_name}' created or already exists.\")"
   ],
   "metadata": {
    "collapsed": false
   },
   "id": "c6bc5365b520aa17"
  },
  {
   "cell_type": "code",
   "execution_count": null,
   "outputs": [],
   "source": [
    "# Create DB Credentials dictionary\n",
    "\n",
    "db_credentials = {\n",
    "    'dbname': DB_NAME,\n",
    "    'user': DB_USERNAME,\n",
    "    'password': DB_PASSWORD,\n",
    "    'host': DB_HOST,\n",
    "    'port': DB_PORT\n",
    "}"
   ],
   "metadata": {
    "collapsed": false
   },
   "id": "69ea5280be5413e5"
  },
  {
   "cell_type": "code",
   "execution_count": null,
   "id": "initial_id",
   "metadata": {
    "collapsed": true
   },
   "outputs": [],
   "source": [
    "def processor:\n",
    "    # Access RDS database\n",
    "\n",
    "    # Create table inside the RDS\n",
    "    \n",
    "    # Read .json files from the s3 bucket\n",
    "\n",
    "    # Store the .json files inside the database\n",
    "    \n",
    "    return"
   ]
  }
 ],
 "metadata": {
  "kernelspec": {
   "display_name": "Python 3",
   "language": "python",
   "name": "python3"
  },
  "language_info": {
   "codemirror_mode": {
    "name": "ipython",
    "version": 2
   },
   "file_extension": ".py",
   "mimetype": "text/x-python",
   "name": "python",
   "nbconvert_exporter": "python",
   "pygments_lexer": "ipython2",
   "version": "2.7.6"
  }
 },
 "nbformat": 4,
 "nbformat_minor": 5
}
