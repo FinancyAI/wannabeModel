{
 "cells": [
  {
   "cell_type": "code",
   "execution_count": 1,
   "id": "initial_id",
   "metadata": {
    "collapsed": true,
    "ExecuteTime": {
     "end_time": "2024-06-24T15:47:52.602585300Z",
     "start_time": "2024-06-24T15:47:48.919193800Z"
    }
   },
   "outputs": [],
   "source": [
    "import numpy as np\n",
    "import pandas as pd\n",
    "from time import sleep\n",
    "from selenium import webdriver\n",
    "from selenium.webdriver.common.by import By\n",
    "from selenium.webdriver.support.ui import WebDriverWait\n",
    "from selenium.webdriver.support import expected_conditions as EC\n",
    "import undetected_chromedriver as uc"
   ]
  },
  {
   "cell_type": "code",
   "execution_count": 2,
   "outputs": [],
   "source": [
    "option = webdriver.ChromeOptions()\n",
    "option.add_argument(\"--window-size=500,500\")\n",
    "driver = uc.Chrome(options=option)"
   ],
   "metadata": {
    "collapsed": false,
    "ExecuteTime": {
     "end_time": "2024-06-24T15:47:58.857021200Z",
     "start_time": "2024-06-24T15:47:52.606587700Z"
    }
   },
   "id": "99e998f83e85cdd4"
  },
  {
   "cell_type": "code",
   "execution_count": 3,
   "outputs": [],
   "source": [
    "driver.get(\"https://www.sec.gov/edgar/search/\")"
   ],
   "metadata": {
    "collapsed": false,
    "ExecuteTime": {
     "end_time": "2024-06-20T14:04:37.064027300Z",
     "start_time": "2024-06-20T14:04:35.701799200Z"
    }
   },
   "id": "7c5e4eadaf9d08ed"
  },
  {
   "cell_type": "code",
   "execution_count": 4,
   "outputs": [],
   "source": [
    "ticker_list = ['AAPL', 'AMZN']"
   ],
   "metadata": {
    "collapsed": false,
    "ExecuteTime": {
     "end_time": "2024-06-20T14:04:37.091423800Z",
     "start_time": "2024-06-20T14:04:37.070429200Z"
    }
   },
   "id": "655e83baa54a31d8"
  },
  {
   "cell_type": "code",
   "execution_count": 5,
   "outputs": [],
   "source": [
    "input_ticker = ticker_list[0]\n",
    "\n",
    "#Clearing output and sending ticker keyword\n",
    "input_button=driver.find_element(By.XPATH, '//*[@id=\"entity-short-form\"]')\n",
    "input_button.clear()\n",
    "input_button.send_keys(input_ticker)"
   ],
   "metadata": {
    "collapsed": false,
    "ExecuteTime": {
     "end_time": "2024-06-20T14:04:51.052027300Z",
     "start_time": "2024-06-20T14:04:50.850584Z"
    }
   },
   "id": "bdea985f222abaf2"
  },
  {
   "cell_type": "code",
   "execution_count": 6,
   "outputs": [],
   "source": [
    "# Click the seach button\n",
    "search_button=driver.find_element(By.XPATH, '//*[@id=\"search\"]').click()"
   ],
   "metadata": {
    "collapsed": false,
    "ExecuteTime": {
     "end_time": "2024-06-20T14:04:56.668207900Z",
     "start_time": "2024-06-20T14:04:56.536436300Z"
    }
   },
   "id": "3528c057ac8cda0e"
  },
  {
   "cell_type": "code",
   "execution_count": 9,
   "outputs": [],
   "source": [
    "# Clearing the text search bar\n",
    "driver.find_element(By.XPATH, '//*[@id=\"keywords\"]').clear()\n",
    "\n",
    "# Inputting Ticker in ticker search bar\n",
    "driver.find_element(By.XPATH, '//*[@id=\"entity-full-form\"]').send_keys(input_ticker)"
   ],
   "metadata": {
    "collapsed": false,
    "ExecuteTime": {
     "end_time": "2024-06-20T14:05:52.494069300Z",
     "start_time": "2024-06-20T14:05:52.383547500Z"
    }
   },
   "id": "589a7fab0d3ee20d"
  },
  {
   "cell_type": "code",
   "execution_count": null,
   "outputs": [],
   "source": [],
   "metadata": {
    "collapsed": false
   },
   "id": "61964d426792457f"
  },
  {
   "cell_type": "code",
   "execution_count": 10,
   "outputs": [],
   "source": [
    "WebDriverWait(driver,10).until(\n",
    "    EC.element_to_be_clickable((By.XPATH, '//*[@id=\"keywords\"]'))\n",
    ").click()\n",
    "\n",
    "# Interacting with the dropdown menu\n",
    "WebDriverWait(driver,10).until(\n",
    "    EC.element_to_be_clickable((By.XPATH, '//*[@id=\"category-select\"]'))\n",
    ").click()\n",
    "\n",
    "# Choosing All Reports options\n",
    "WebDriverWait(driver,10).until(\n",
    "    EC.element_to_be_clickable((By.XPATH, '//*[@id=\"category-type-grp\"]/ul/li[3]'))\n",
    ").click()"
   ],
   "metadata": {
    "collapsed": false,
    "ExecuteTime": {
     "end_time": "2024-06-20T14:06:01.396529800Z",
     "start_time": "2024-06-20T14:06:01.161100400Z"
    }
   },
   "id": "eb7db7550c7b82b5"
  },
  {
   "cell_type": "code",
   "execution_count": 48,
   "outputs": [],
   "source": [
    "# Clicking the search bar now\n",
    "WebDriverWait(driver,10).until(\n",
    "    EC.element_to_be_clickable((By.XPATH, '//*[@id=\"search\"]'))\n",
    ").click()"
   ],
   "metadata": {
    "collapsed": false,
    "ExecuteTime": {
     "end_time": "2024-06-16T11:38:44.585025100Z",
     "start_time": "2024-06-16T11:38:44.508790600Z"
    }
   },
   "id": "f98ff5af3726eee7"
  },
  {
   "cell_type": "markdown",
   "source": [
    "#### Specific Text: \"//a[contains(text(), '10-Q (Quarterly report)')]\""
   ],
   "metadata": {
    "collapsed": false
   },
   "id": "63d7634e8872653a"
  },
  {
   "cell_type": "code",
   "execution_count": 49,
   "outputs": [],
   "source": [
    "# Clicking on the 10 Q report\n",
    "\n",
    "WebDriverWait(driver, 10).until(\n",
    "    EC.element_to_be_clickable(\n",
    "        (By.XPATH, \"//a[contains(text(), '10-Q (Quarterly report)')]\")\n",
    "    )\n",
    ").click()"
   ],
   "metadata": {
    "collapsed": false,
    "ExecuteTime": {
     "end_time": "2024-06-16T11:38:47.716826700Z",
     "start_time": "2024-06-16T11:38:47.593076Z"
    }
   },
   "id": "e48875a295b90999"
  },
  {
   "cell_type": "code",
   "execution_count": 50,
   "outputs": [],
   "source": [
    "# Opening the document in another tab\n",
    "\n",
    "WebDriverWait(driver, 10).until(\n",
    "    EC.element_to_be_clickable(\n",
    "        (By.XPATH, '//*[@id=\"open-file\"]/button')\n",
    "    )\n",
    ").click()"
   ],
   "metadata": {
    "collapsed": false,
    "ExecuteTime": {
     "end_time": "2024-06-16T11:39:01.882010600Z",
     "start_time": "2024-06-16T11:39:01.746666200Z"
    }
   },
   "id": "81cec51bd5d205e2"
  },
  {
   "cell_type": "code",
   "execution_count": 51,
   "outputs": [],
   "source": [
    "# Switch to the new tab\n",
    "WebDriverWait(driver, 10).until(EC.number_of_windows_to_be(2))\n",
    "driver.switch_to.window(driver.window_handles[1])"
   ],
   "metadata": {
    "collapsed": false,
    "ExecuteTime": {
     "end_time": "2024-06-16T11:39:04.032923400Z",
     "start_time": "2024-06-16T11:39:04.001404800Z"
    }
   },
   "id": "d94c72a0ab44ab4c"
  },
  {
   "cell_type": "code",
   "execution_count": null,
   "outputs": [],
   "source": [
    "page_source = driver.page_source\n",
    "\n",
    "# Save the page source to a file\n",
    "with open(\"page_source.html\", \"w\", encoding=\"utf-8\") as file:\n",
    "    file.write(page_source)"
   ],
   "metadata": {
    "collapsed": false
   },
   "id": "4a3abde87505aa8e"
  },
  {
   "cell_type": "code",
   "execution_count": 52,
   "outputs": [
    {
     "name": "stdout",
     "output_type": "stream",
     "text": [
      "Item 2:  Item 2.    Management’s Discussion and Analysis of Financial Condition and Results of Operations\n"
     ]
    }
   ],
   "source": [
    "# Wait until the \"Item 2\" element is present\n",
    "management_section = WebDriverWait(driver, 10).until(\n",
    "    EC.presence_of_element_located((By.XPATH, \"//span[contains(text(), 'Item 2.')]\"))\n",
    ")\n",
    "print(\"Item 2: \", management_section.text)"
   ],
   "metadata": {
    "collapsed": false,
    "ExecuteTime": {
     "end_time": "2024-06-16T11:39:06.207334200Z",
     "start_time": "2024-06-16T11:39:06.165924800Z"
    }
   },
   "id": "312808c3ebb82e0"
  },
  {
   "cell_type": "code",
   "execution_count": 53,
   "outputs": [
    {
     "name": "stdout",
     "output_type": "stream",
     "text": [
      "Current element:  Item 2.    Management’s Discussion and Analysis of Financial Condition and Results of Operations\n"
     ]
    }
   ],
   "source": [
    "# Locate the parent element\n",
    "parent_element = management_section.find_element(By.XPATH, \"./ancestor::div\")\n",
    "\n",
    "current_element = parent_element\n",
    "print(\"Current element: \", current_element.text)"
   ],
   "metadata": {
    "collapsed": false,
    "ExecuteTime": {
     "end_time": "2024-06-16T11:39:09.258314500Z",
     "start_time": "2024-06-16T11:39:09.221778900Z"
    }
   },
   "id": "de84bfaaf3d9068b"
  },
  {
   "cell_type": "code",
   "execution_count": 54,
   "outputs": [
    {
     "data": {
      "text/plain": "'This Item and other sections of this Quarterly Report on Form 10-Q (“Form 10-Q”) contain forward-looking statements, within the meaning of the Private Securities Litigation Reform Act of 1995, that involve risks and uncertainties. Forward-looking statements provide current expectations of future events based on certain assumptions and include any statement that does not directly relate to any historical or current fact. For example, statements in this Form 10-Q regarding the potential future impact of macroeconomic conditions on the Company’s business and results of operations are forward-looking statements. Forward-looking statements can also be identified by words such as “future,” “anticipates,” “believes,” “estimates,” “expects,” “intends,” “plans,” “predicts,” “will,” “would,” “could,” “can,” “may,” and similar terms. Forward-looking statements are not guarantees of future performance and the Company’s actual results may differ significantly from the results discussed in the forward-looking statements. Factors that might cause such differences include, but are not limited to, those discussed in Part I, Item 1A of the 2023 Form 10-K under the heading “Risk Factors.” The Company assumes no obligation to revise or update any forward-looking statements for any reason, except as required by law.'"
     },
     "execution_count": 54,
     "metadata": {},
     "output_type": "execute_result"
    }
   ],
   "source": [
    "# Locate the next sibling element\n",
    "current_element = current_element.find_element(By.XPATH, \"following-sibling::*[1]\")\n",
    "sibling_text = current_element.text.strip()\n",
    "sibling_text"
   ],
   "metadata": {
    "collapsed": false,
    "ExecuteTime": {
     "end_time": "2024-06-16T11:39:11.755572800Z",
     "start_time": "2024-06-16T11:39:11.700340800Z"
    }
   },
   "id": "4103f77ab14d854d"
  },
  {
   "cell_type": "markdown",
   "source": [
    "# Open AI API"
   ],
   "metadata": {
    "collapsed": false
   },
   "id": "62fe6a8d1fa453ff"
  },
  {
   "cell_type": "markdown",
   "source": [
    "Setting API key as an environment variable to keep up with the good practices of sensitive information on coding. \n",
    "\n",
    "### On Windows\n",
    "set OPENAI_API_KEY=your-api-key\n",
    "\n",
    "### On Apple\n",
    "export OPENAI_API_KEY=your-api-key\n"
   ],
   "metadata": {
    "collapsed": false
   },
   "id": "90dbc326aa8fa34d"
  },
  {
   "cell_type": "markdown",
   "source": [
    "Create a file named .env in the root of your project directory and add your API key:\n",
    "\n",
    "OPENAI_API_KEY=your-api-key\n"
   ],
   "metadata": {
    "collapsed": false
   },
   "id": "9d9bc7c72d4a50cd"
  },
  {
   "cell_type": "code",
   "execution_count": 44,
   "outputs": [],
   "source": [
    "import openai\n",
    "from dotenv import load_dotenv\n",
    "import os"
   ],
   "metadata": {
    "collapsed": false,
    "ExecuteTime": {
     "end_time": "2024-05-29T13:44:24.979396300Z",
     "start_time": "2024-05-29T13:44:22.268862900Z"
    }
   },
   "id": "b580ee6aae7e1ffc"
  },
  {
   "cell_type": "code",
   "execution_count": null,
   "outputs": [],
   "source": [
    "# Load environment variables from .env file\n",
    "load_dotenv()\n",
    "# Loading the previously set variable.\n",
    "openai_api_key = os.getenv('OPENAI_API_KEY')"
   ],
   "metadata": {
    "collapsed": false
   },
   "id": "7f3b496253548417"
  },
  {
   "cell_type": "code",
   "execution_count": null,
   "outputs": [],
   "source": [
    "openai.api_key=openai_api_key"
   ],
   "metadata": {
    "collapsed": false
   },
   "id": "278a9661f001657"
  },
  {
   "cell_type": "markdown",
   "source": [
    "#### Code explanation: \n",
    "- response.choices: Accesses the list of completion choices.\n",
    "- response.choices[0]: Gets the first choice in the list.\n",
    "- response.choices[0].text: Extracts the text of the first choice.\n",
    "- .strip(): Cleans up the text by removing any leading and trailing whitespace."
   ],
   "metadata": {
    "collapsed": false
   },
   "id": "d7c20d98de2e3eac"
  },
  {
   "cell_type": "code",
   "execution_count": null,
   "outputs": [],
   "source": [
    "openai.api_key=\"\""
   ],
   "metadata": {
    "collapsed": false
   },
   "id": "68e510aad2ccb504"
  },
  {
   "cell_type": "code",
   "execution_count": 2,
   "outputs": [],
   "source": [
    "# Summarizing text function with OpenAI\n",
    "def summarize_text(financial_text):\n",
    "    response = openai.Completion.create(\n",
    "        engine=\"text-davinci-003\",\n",
    "        prompt=f\"Summarize the following text from a 10-Q financial report {financial_text}\",\n",
    "        max_tokens=150,\n",
    "        temperature=0.5,\n",
    "    )\n",
    "    summary = response.choices[0].text.strip()\n",
    "    return summary"
   ],
   "metadata": {
    "collapsed": false,
    "ExecuteTime": {
     "end_time": "2024-05-29T11:43:57.804223200Z",
     "start_time": "2024-05-29T11:43:57.788618300Z"
    }
   },
   "id": "49ae0d7064090ba"
  },
  {
   "cell_type": "code",
   "execution_count": null,
   "outputs": [],
   "source": [
    "# Using the function\n",
    "summary=summarize_text(sibling_text)\n",
    "print(\"Summary:\", summary)"
   ],
   "metadata": {
    "collapsed": false
   },
   "id": "dced6820c22c2891"
  }
 ],
 "metadata": {
  "kernelspec": {
   "display_name": "Python 3",
   "language": "python",
   "name": "python3"
  },
  "language_info": {
   "codemirror_mode": {
    "name": "ipython",
    "version": 2
   },
   "file_extension": ".py",
   "mimetype": "text/x-python",
   "name": "python",
   "nbconvert_exporter": "python",
   "pygments_lexer": "ipython2",
   "version": "2.7.6"
  }
 },
 "nbformat": 4,
 "nbformat_minor": 5
}
