{
 "cells": [
  {
   "cell_type": "code",
   "execution_count": 1,
   "outputs": [],
   "source": [
    "from crewai import Agent, Task, Crew, Process\n",
    "from langchain_community.llms import Ollama"
   ],
   "metadata": {
    "collapsed": false,
    "ExecuteTime": {
     "end_time": "2024-06-17T08:08:25.473543400Z",
     "start_time": "2024-06-17T08:08:17.825772600Z"
    }
   },
   "id": "b77d018221fa4af4"
  },
  {
   "cell_type": "code",
   "execution_count": 2,
   "id": "initial_id",
   "metadata": {
    "collapsed": true,
    "ExecuteTime": {
     "end_time": "2024-06-17T08:08:25.499074400Z",
     "start_time": "2024-06-17T08:08:25.471643600Z"
    }
   },
   "outputs": [],
   "source": [
    "model = Ollama(model=\"llama3\")"
   ]
  },
  {
   "cell_type": "code",
   "execution_count": 15,
   "outputs": [
    {
     "ename": "ModuleNotFoundError",
     "evalue": "No module named 'Financial_report_Scraper'",
     "output_type": "error",
     "traceback": [
      "\u001B[1;31m---------------------------------------------------------------------------\u001B[0m",
      "\u001B[1;31mModuleNotFoundError\u001B[0m                       Traceback (most recent call last)",
      "Cell \u001B[1;32mIn[15], line 1\u001B[0m\n\u001B[1;32m----> 1\u001B[0m \u001B[38;5;28;01mfrom\u001B[39;00m \u001B[38;5;21;01mFinancial_report_Scraper\u001B[39;00m \u001B[38;5;28;01mimport\u001B[39;00m report_scraper\n\u001B[0;32m      2\u001B[0m ticker \u001B[38;5;241m=\u001B[39m [\u001B[38;5;124m'\u001B[39m\u001B[38;5;124mAAPL\u001B[39m\u001B[38;5;124m'\u001B[39m]\n\u001B[0;32m      3\u001B[0m text \u001B[38;5;241m=\u001B[39m \u001B[38;5;124m\"\u001B[39m\u001B[38;5;124m10-Q (Quarterly report)\u001B[39m\u001B[38;5;124m\"\u001B[39m\n",
      "\u001B[1;31mModuleNotFoundError\u001B[0m: No module named 'Financial_report_Scraper'"
     ]
    }
   ],
   "source": [
    "from Financial_report_Scraper import report_scraper\n",
    "ticker = ['AAPL']\n",
    "text = \"10-Q (Quarterly report)\"\n",
    "html = report_scraper(ticker, \"text\")"
   ],
   "metadata": {
    "collapsed": false,
    "ExecuteTime": {
     "end_time": "2024-06-17T09:09:37.724118Z",
     "start_time": "2024-06-17T09:09:37.453266600Z"
    }
   },
   "id": "990fa848bc9b7efd"
  },
  {
   "cell_type": "code",
   "execution_count": 11,
   "outputs": [],
   "source": [
    "html = \"\"\"<!DOCTYPE html>\n",
    "<html lang=\"en\">\n",
    "<head>\n",
    "    <meta charset=\"UTF-8\">\n",
    "    <meta name=\"viewport\" content=\"width=device-width, initial-scale=1.0\">\n",
    "    <title>Sample HTML Page</title>\n",
    "    <style>\n",
    "        body {\n",
    "            font-family: Arial, sans-serif;\n",
    "            margin: 0;\n",
    "            padding: 20px;\n",
    "            background-color: #f4f4f4;\n",
    "        }\n",
    "        header {\n",
    "            background-color: #4CAF50;\n",
    "            color: white;\n",
    "            padding: 10px 0;\n",
    "            text-align: center;\n",
    "        }\n",
    "        nav {\n",
    "            margin: 20px 0;\n",
    "        }\n",
    "        nav a {\n",
    "            margin: 0 10px;\n",
    "            text-decoration: none;\n",
    "            color: #333;\n",
    "        }\n",
    "        nav a:hover {\n",
    "            color: #4CAF50;\n",
    "        }\n",
    "        main {\n",
    "            margin: 20px 0;\n",
    "        }\n",
    "        footer {\n",
    "            text-align: center;\n",
    "            padding: 10px 0;\n",
    "            background-color: #333;\n",
    "            color: white;\n",
    "            position: fixed;\n",
    "            bottom: 0;\n",
    "            width: 100%;\n",
    "        }\n",
    "    </style>\n",
    "</head>\n",
    "<body>\n",
    "    <header>\n",
    "        <h1>Welcome to My Sample HTML Page</h1>\n",
    "    </header>\n",
    "    <nav>\n",
    "        <a href=\"#home\">Home</a>\n",
    "        <a href=\"#about\">About</a>\n",
    "        <a href=\"#contact\">Contact</a>\n",
    "    </nav>\n",
    "    <main>\n",
    "        <section id=\"home\">\n",
    "            <h2>Home</h2>\n",
    "            <p>This is the home section of the sample HTML page. It contains some introductory content.</p>\n",
    "        </section>\n",
    "        <section id=\"about\">\n",
    "            <h2>About</h2>\n",
    "            <p>This section contains information about the purpose of this sample HTML page.</p>\n",
    "        </section>\n",
    "        <section id=\"contact\">\n",
    "            <h2>Contact</h2>\n",
    "            <p>This section provides contact information.</p>\n",
    "        </section>\n",
    "    </main>\n",
    "    <footer>\n",
    "        <p>&copy; 2024 Sample HTML Page. All rights reserved.</p>\n",
    "    </footer>\n",
    "</body>\n",
    "</html>\n",
    "\"\"\""
   ],
   "metadata": {
    "collapsed": false,
    "ExecuteTime": {
     "end_time": "2024-06-17T08:27:39.450695200Z",
     "start_time": "2024-06-17T08:27:39.437634600Z"
    }
   },
   "id": "d52205b115ca661e"
  },
  {
   "cell_type": "code",
   "execution_count": 6,
   "outputs": [],
   "source": [
    "analyzer = Agent(\n",
    "    role = \"HTML Summarizer.\",\n",
    "    goal = \"To summarize a financial report in a HTML format. Make the summary around three sentences long.\",\n",
    "    backstory = \"You are an AI Assistant that identifies the important information from an HTML Financial report and summarizes it for your client.\",\n",
    "    verbose = True,\n",
    "    allow_delegation = False,\n",
    "    llm = model\n",
    ")\n",
    "\n",
    "summary = Task(\n",
    "    description = f\"Summarize the following financial report {html}\",\n",
    "    agent = analyzer,\n",
    "    expected_output = \"A short summary of the financial report\"\n",
    ")\n",
    "\n",
    "crew = Crew(\n",
    "    agents = [analyzer],\n",
    "    tasks = [summary],\n",
    "    verbose = 1,\n",
    "    process = Process.sequential\n",
    ")"
   ],
   "metadata": {
    "collapsed": false,
    "ExecuteTime": {
     "end_time": "2024-06-17T08:21:57.589372800Z",
     "start_time": "2024-06-17T08:21:57.564879900Z"
    }
   },
   "id": "25b899b9299fe9be"
  },
  {
   "cell_type": "code",
   "execution_count": 14,
   "outputs": [
    {
     "name": "stdout",
     "output_type": "stream",
     "text": [
      "\u001B[1m\u001B[95m [DEBUG]: == Working Agent: HTML Summarizer.\u001B[00m\n",
      "\n",
      "\n",
      "\u001B[1m> Entering new CrewAgentExecutor chain...\u001B[0m\n",
      "\u001B[32;1m\u001B[1;3mI now can give a great answer!\n",
      "\n",
      "Final Answer:\n",
      "\n",
      "This report does not contain any financial information. The provided HTML code appears to be a sample web page template, including a header, navigation menu, main content section, and footer. There are no tables, charts, or financial data presented in this report.\u001B[0m\n",
      "\n",
      "\u001B[1m> Finished chain.\u001B[0m\n",
      "\u001B[1m\u001B[92m [DEBUG]: == [HTML Summarizer.] Task output: This report does not contain any financial information. The provided HTML code appears to be a sample web page template, including a header, navigation menu, main content section, and footer. There are no tables, charts, or financial data presented in this report.\n",
      "\n",
      "\u001B[00m\n",
      "This report does not contain any financial information. The provided HTML code appears to be a sample web page template, including a header, navigation menu, main content section, and footer. There are no tables, charts, or financial data presented in this report.\n"
     ]
    }
   ],
   "source": [
    "output = crew.kickoff()\n",
    "print(output)"
   ],
   "metadata": {
    "collapsed": false,
    "ExecuteTime": {
     "end_time": "2024-06-17T08:45:14.635134700Z",
     "start_time": "2024-06-17T08:39:37.026272700Z"
    }
   },
   "id": "2320dcf7da149c9f"
  },
  {
   "cell_type": "code",
   "execution_count": null,
   "outputs": [],
   "source": [],
   "metadata": {
    "collapsed": false
   },
   "id": "aa091545c47385c1"
  }
 ],
 "metadata": {
  "kernelspec": {
   "display_name": "Python 3",
   "language": "python",
   "name": "python3"
  },
  "language_info": {
   "codemirror_mode": {
    "name": "ipython",
    "version": 2
   },
   "file_extension": ".py",
   "mimetype": "text/x-python",
   "name": "python",
   "nbconvert_exporter": "python",
   "pygments_lexer": "ipython2",
   "version": "2.7.6"
  }
 },
 "nbformat": 4,
 "nbformat_minor": 5
}
