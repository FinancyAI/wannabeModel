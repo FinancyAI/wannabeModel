{
 "cells": [
  {
   "cell_type": "code",
   "execution_count": 1,
   "outputs": [],
   "source": [
    "from crewai import Agent, Task, Crew, Process\n",
    "from langchain_community.llms import Ollama\n",
    "import os"
   ],
   "metadata": {
    "collapsed": false,
    "ExecuteTime": {
     "end_time": "2024-06-21T20:59:36.240684200Z",
     "start_time": "2024-06-21T20:59:31.901231200Z"
    }
   },
   "id": "b77d018221fa4af4"
  },
  {
   "cell_type": "code",
   "execution_count": 2,
   "id": "initial_id",
   "metadata": {
    "collapsed": true,
    "ExecuteTime": {
     "end_time": "2024-06-21T20:59:36.248890400Z",
     "start_time": "2024-06-21T20:59:36.238686600Z"
    }
   },
   "outputs": [],
   "source": [
    "model = Ollama(model=\"llama3\")"
   ]
  },
  {
   "cell_type": "code",
   "execution_count": 11,
   "outputs": [
    {
     "name": "stdout",
     "output_type": "stream",
     "text": [
      "Current working directory: C:\\Users\\fagos\\PycharmProjects\\pythonProject\\Financy\\wannabeModel\n"
     ]
    }
   ],
   "source": [
    "# Set the path to the directory containing Financial_report_Scraper.py\n",
    "path_to_directory = r\"C:\\Users\\fagos\\PycharmProjects\\pythonProject\\Financy\\wannabeModel\"\n",
    "\n",
    "# Change the current working directory\n",
    "os.chdir(path_to_directory)\n",
    "\n",
    "# Verify the current working directory\n",
    "print(\"Current working directory:\", os.getcwd())"
   ],
   "metadata": {
    "collapsed": false,
    "ExecuteTime": {
     "end_time": "2024-06-21T21:54:35.357896900Z",
     "start_time": "2024-06-21T21:54:35.348368900Z"
    }
   },
   "id": "58b5d9494b25bef5"
  },
  {
   "cell_type": "code",
   "execution_count": 13,
   "outputs": [
    {
     "name": "stdout",
     "output_type": "stream",
     "text": [
      "An error occurred for cik 0001045810: Message: \n",
      "Stacktrace:\n",
      "\tGetHandleVerifier [0x00007FF6F3ED3E32+31618]\n",
      "\t(No symbol) [0x00007FF6F3E4B099]\n",
      "\t(No symbol) [0x00007FF6F3D0888A]\n",
      "\t(No symbol) [0x00007FF6F3D58524]\n",
      "\t(No symbol) [0x00007FF6F3D5862C]\n",
      "\t(No symbol) [0x00007FF6F3D9F787]\n",
      "\t(No symbol) [0x00007FF6F3D7D14F]\n",
      "\t(No symbol) [0x00007FF6F3D9CA80]\n",
      "\t(No symbol) [0x00007FF6F3D7CEB3]\n",
      "\t(No symbol) [0x00007FF6F3D4A46B]\n",
      "\t(No symbol) [0x00007FF6F3D4B001]\n",
      "\tGetHandleVerifier [0x00007FF6F41D9FFD+3202381]\n",
      "\tGetHandleVerifier [0x00007FF6F4226A1D+3516269]\n",
      "\tGetHandleVerifier [0x00007FF6F421C490+3473888]\n",
      "\tGetHandleVerifier [0x00007FF6F3F85D36+760454]\n",
      "\t(No symbol) [0x00007FF6F3E56B3F]\n",
      "\t(No symbol) [0x00007FF6F3E51CD4]\n",
      "\t(No symbol) [0x00007FF6F3E51E62]\n",
      "\t(No symbol) [0x00007FF6F3E4120F]\n",
      "\tBaseThreadInitThunk [0x00007FFE03E5257D+29]\n",
      "\tRtlUserThreadStart [0x00007FFE055CAF28+40]\n",
      "\n",
      "{}\n"
     ]
    }
   ],
   "source": [
    "from Financial_report_Scraper import report_scraper, create_driver\n",
    "\n",
    "# List of CIK numbers to search for\n",
    "cik_list = ['0001045810']\n",
    "# The report type to search for\n",
    "text = \"10-Q (Quarterly report)\"\n",
    "\n",
    "driver = None\n",
    "try:\n",
    "    driver = create_driver()\n",
    "    html = report_scraper(driver, cik_list, text)\n",
    "    print(html)\n",
    "except Exception as e:\n",
    "    print(f\"An error occurred during execution: {e}\")\n",
    "finally:\n",
    "    if driver:\n",
    "        try:\n",
    "            driver.quit()\n",
    "        except Exception as e:\n",
    "            print(f\"Error quitting driver: {e}\")\n",
    "        finally:\n",
    "            del driver"
   ],
   "metadata": {
    "collapsed": false,
    "ExecuteTime": {
     "end_time": "2024-06-21T21:55:28.579427500Z",
     "start_time": "2024-06-21T21:55:06.536867700Z"
    }
   },
   "id": "990fa848bc9b7efd"
  },
  {
   "cell_type": "code",
   "execution_count": 10,
   "outputs": [
    {
     "name": "stdout",
     "output_type": "stream",
     "text": [
      "{}\n"
     ]
    }
   ],
   "source": [
    "from Financial_report_Scraper import report_scraper, create_driver\n",
    "\n",
    "# List of CIK numbers to search for\n",
    "cik_list = ['0001045810']\n",
    "# The report type to search for\n",
    "text = \"10-Q (Quarterly report)\"\n",
    "\n",
    "driver = None\n",
    "driver = create_driver()\n",
    "print(html)"
   ],
   "metadata": {
    "collapsed": false,
    "ExecuteTime": {
     "end_time": "2024-06-21T21:12:23.695229100Z",
     "start_time": "2024-06-21T21:12:19.234795300Z"
    }
   },
   "id": "8472f5d331518190"
  },
  {
   "cell_type": "code",
   "execution_count": 5,
   "outputs": [
    {
     "data": {
      "text/plain": "{}"
     },
     "execution_count": 5,
     "metadata": {},
     "output_type": "execute_result"
    }
   ],
   "source": [
    "html"
   ],
   "metadata": {
    "collapsed": false,
    "ExecuteTime": {
     "end_time": "2024-06-20T13:07:44.440171500Z",
     "start_time": "2024-06-20T13:07:44.414646200Z"
    }
   },
   "id": "b4c7438c005d51d0"
  },
  {
   "cell_type": "code",
   "execution_count": null,
   "outputs": [],
   "source": [
    "analyzer = Agent(\n",
    "    role = \"HTML Summarizer.\",\n",
    "    goal = \"To summarize a financial report in a HTML format. Make the summary around three sentences long.\",\n",
    "    backstory = \"You are an AI Assistant that identifies the important information from an HTML Financial report and summarizes it for your client.\",\n",
    "    verbose = True,\n",
    "    allow_delegation = False,\n",
    "    llm = model\n",
    ")\n",
    "\n",
    "summary = Task(\n",
    "    description = f\"Summarize the following financial report {html}\",\n",
    "    agent = analyzer,\n",
    "    expected_output = \"A short summary of the financial report\"\n",
    ")\n",
    "\n",
    "crew = Crew(\n",
    "    agents = [analyzer],\n",
    "    tasks = [summary],\n",
    "    verbose = 1,\n",
    "    process = Process.sequential\n",
    ")"
   ],
   "metadata": {
    "collapsed": false
   },
   "id": "25b899b9299fe9be"
  },
  {
   "cell_type": "code",
   "execution_count": null,
   "outputs": [],
   "source": [
    "output = crew.kickoff()\n",
    "print(output)"
   ],
   "metadata": {
    "collapsed": false
   },
   "id": "2320dcf7da149c9f"
  },
  {
   "cell_type": "code",
   "execution_count": null,
   "outputs": [],
   "source": [],
   "metadata": {
    "collapsed": false
   },
   "id": "aa091545c47385c1"
  }
 ],
 "metadata": {
  "kernelspec": {
   "display_name": "Python 3",
   "language": "python",
   "name": "python3"
  },
  "language_info": {
   "codemirror_mode": {
    "name": "ipython",
    "version": 2
   },
   "file_extension": ".py",
   "mimetype": "text/x-python",
   "name": "python",
   "nbconvert_exporter": "python",
   "pygments_lexer": "ipython2",
   "version": "2.7.6"
  }
 },
 "nbformat": 4,
 "nbformat_minor": 5
}
