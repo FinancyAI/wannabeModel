{
 "cells": [
  {
   "cell_type": "markdown",
   "metadata": {},
   "source": [
    "# Identifying Companies with Anomlaies\n",
    "\n",
    "This notebook focuses on detecting and analyzing years when companies were reported to have financial anomalies in their financial statements.\n",
    "\n",
    "## Data Source \n",
    "\n",
    "**Edgar Database:** In our initial phase, we checked the EDGAR database to ensure that financial reports were available for the years corresponding to when the listed companies were reported to have financial anomalies. \n",
    "\n",
    "## Steps in Analysis\n",
    "\n",
    "1. Identifying Anomalies\n",
    "\n",
    "We gathered a list of companies along with specific years during which they had reported anomalies We then reviewed past literature and regulatory findings to compile a list of companies with notable discrepancies in their financial reports. The output is **companies_with_anomalies** list which includes *cik_str*.\n",
    "\n",
    "2. Data Retrieval from EDGAR\n",
    "\n",
    "We matched the companies in our list with their corresponding CIK numbers to fetch detailed reports from EDGAR. We used the *cik_str* from our list to query the EDGAR database and retrieve relevant financial data. We Created a function **get_related_tickers** to find all tickers associated with a given CIK number from our database, ensuring comprehensive data retrieval for each company.\n",
    "\n",
    "3. Data Preparation\n",
    "\n",
    "We organised the data into a structured format suitable for analysis and compiled a DataFrame that includes the **CIK number, scandal year, ticker, company name and the ticker and a description at the time the anomaly occured.** \n",
    "\n"
   ]
  },
  {
   "cell_type": "markdown",
   "metadata": {},
   "source": [
    "### Import Libraries"
   ]
  },
  {
   "cell_type": "code",
   "execution_count": 8,
   "metadata": {},
   "outputs": [],
   "source": [
    "import pandas as pd"
   ]
  },
  {
   "cell_type": "markdown",
   "metadata": {},
   "source": [
    "### 1. Identifying Anomalies"
   ]
  },
  {
   "cell_type": "code",
   "execution_count": 1,
   "metadata": {},
   "outputs": [],
   "source": [
    "# List of companies found in EDGAR and the date of the alleged anomaly\n",
    "companies_with_anomalies = [\n",
    "    (\"5272\", \"AIG\", \"2008\", \"Financial Misrepresentaion\"),\n",
    "    (\"310522\", \"FNM\", \"2004\", \"Accounting Irregularities\"),\n",
    "    (\"18926\", \"Q (Quest Communications)\", \"2002\", \"Accounting Fraud.\"),\n",
    "    (\"72971\", \"WFC\", \"2016\", \"Consumer Fraud\"),\n",
    "    (\"1159508\", \"DB\", \"2015\", \"Wire Fraud\"),\n",
    "    (\"1114446\", \"UBS\", \"2011\", \"Tax Evasion\"),\n",
    "    (\"14272\", \"BMY\", \"2002\", \"Financial Misrepresentation\"),\n",
    "    (\"831001\", \"C\", \"2008\", \"Security Fraud\"),\n",
    "    (\"19617\", \"JPM\", \"2012\", \"Trading Fraud\"),\n",
    "    (\"1131399\", \"GSK\", \"2012\", \"Health Care Fraud\"),\n",
    "    (\"312070\", \"BARC\", \"2012\", \"Involved in the Libor rate-manipulation scandal\"),\n",
    "    (\"1119639\", \"PBR\", \"2014\", \"Petrobras\"),\n",
    "    (\"96223\", \"LUK\", \"2005\", \"Leucadia National (involved in Refco scandal, now part of Jefferies Financial Group, ticker 'JEF')\"),\n",
    "    (\"18926\", \"LUMN\", \"2002\", \"Lumen Technologies (formerly CenturyLink)\"),\n",
    "    (\"47217\", \"HPQ\", \"2012\", \"HP Inc. (involved in the aftermath of Autonomy scandal)\"),\n",
    "    (\"1490281\", \"GRPN\", \"2012\", \"Groupon (accounting irregularities post-IPO)\"),\n",
    "    (\"1119639\", \"PETR4.SA\", \"2014\", \"Petrobras (Brazil)\"),\n",
    "    (\"1767582\", \"LKI\", \"2020\", \"Luckin Coffee (China)\"),\n",
    "    (\"1467858\", \"GM\", \"2014\", \"General Motors (U.S., ignition switch scandal)\"),\n",
    "    (\"789019\", \"MSFT\", \"2001\", \"Microsoft (Accounting investigations)\"),\n",
    "    (\"27419\", \"TGT\", \"2008\", \"Target Corporation (Data breach)\"),\n",
    "    (\"833444\", \"JCI\", \"2005\", \"Johnson Controls (Bribery scandal)\"),\n",
    "    (\"354950\", \"HD\", \"2010\", \"Home Depot (Data breach)\"),\n",
    "    (\"1300514\", \"LVS\", \"2013\", \"Las Vegas Sands (Money laundering)\"),\n",
    "    (\"320193\", \"AAPL\", \"2014\", \"Apple Inc. (Antitrust investigations)\"),\n",
    "    (\"70858\", \"BAC\", \"2008\", \"Bank of America (Mortgage fraud)\"),\n",
    "    (\"1318605\", \"TSLA\", \"2018\", \"Tesla Inc. (Elon Musk's misleading tweets)\"),\n",
    "    (\"1018724\", \"AMZN\", \"2020\", \"Amazon (Price gouging investigations)\"),\n",
    "    (\"1652044\", \"GOOG\", \"2019\", \"Google (Antitrust investigations)\"),\n",
    "    (\"50863\", \"INTC\", \"2014\", \"Intel (Antitrust investigations)\"),\n",
    "    (\"51143\", \"IBM\", \"2005\", \"IBM (Bribery scandal)\"),\n",
    "    (\"77476\", \"PEP\", \"2016\", \"PepsiCo (Bribery scandal)\"),\n",
    "    (\"829224\", \"SBUX\", \"2018\", \"Starbucks (Racial bias scandal)\"),\n",
    "    (\"40545\", \"GE\", \"2009\", \"General Electric (Accounting fraud)\"),\n",
    "    (\"1065280\", \"NFLX\", \"2013\", \"Netflix (Insider trading)\"),\n",
    "    (\"2488\", \"AMD\", \"2009\", \"AMD (Antitrust lawsuit)\"),\n",
    "    (\"858877\", \"CSCO\", \"2013\", \"Cisco Systems (Whistleblower case)\"),\n",
    "    (\"1341439\", \"ORCL\", \"2011\", \"Oracle (Bribery scandal)\"),\n",
    "    (\"804328\", \"QCOM\", \"2018\", \"Qualcomm (Antitrust lawsuit)\"),\n",
    "    (\"1065088\", \"EBAY\", \"2014\", \"eBay (Data breach)\"),\n",
    "    (\"1633917\", \"PYPL\", \"2019\", \"PayPal (Consumer fraud)\"),\n",
    "    (\"1512673\", \"SQ\", \"2019\", \"Square (Data breach)\"),\n",
    "    (\"1759509\", \"LYFT\", \"2019\", \"Lyft (Labor practices investigation)\"),\n",
    "    (\"100493\", \"TSN\", \"2019\", \"Tyson Foods (Labor practices investigation)\"),\n",
    "    (\"63754\", \"MKC\", \"2018\", \"McCormick & Company (Price-fixing scandal)\"),\n",
    "    (\"91419\", \"SJM\", \"2017\", \"J.M. Smucker Company (Misleading labeling)\"),\n",
    "    (\"1637459\", \"KHC\", \"2019\", \"Kraft Heinz (Accounting scandal)\"),\n",
    "    (\"1103982\", \"MDLZ\", \"2017\", \"Mondelez International (Price-fixing)\"),\n",
    "    (\"60086\", \"L\", \"2015\", \"Loews Corporation (Environmental violations)\"),\n",
    "    (\"1041061\", \"YUM\", \"2013\", \"Yum! Brands (Food safety scandal)\"),\n",
    "    (\"1286681\", \"DPZ\", \"2018\", \"Domino's Pizza (Wage theft)\"),\n",
    "    (\"901491\", \"PZZA\", \"2017\", \"Papa John's (Racial slur controversy)\"),\n",
    "    (\"703351\", \"EAT\", \"2015\", \"Brinker International (Labor practices investigation)\"),\n",
    "    (\"887596\", \"CAKE\", \"2019\", \"Cheesecake Factory (Wage theft)\"),\n",
    "    (\"1013488\", \"BJRI\", \"2020\", \"BJ's Restaurants (Wage theft)\"),\n",
    "    (\"1171759\", \"RRGB\", \"2018\", \"Red Robin Gourmet Burgers (Wage theft)\"),\n",
    "    (\"1525769\", \"PLAY\", \"2019\", \"Dave & Buster's (Wage theft)\")\n",
    "]\n",
    "    "
   ]
  },
  {
   "cell_type": "code",
   "execution_count": 2,
   "metadata": {},
   "outputs": [
    {
     "data": {
      "text/plain": [
       "57"
      ]
     },
     "execution_count": 2,
     "metadata": {},
     "output_type": "execute_result"
    }
   ],
   "source": [
    "# Count of number of unique companies\n",
    "len(companies_with_anomalies)"
   ]
  },
  {
   "cell_type": "markdown",
   "metadata": {},
   "source": [
    "### 2. Data Retrieval from EDGAR"
   ]
  },
  {
   "cell_type": "code",
   "execution_count": 4,
   "metadata": {},
   "outputs": [
    {
     "name": "stdout",
     "output_type": "stream",
     "text": [
      "Columns in company_data: ['Unnamed: 0', 'cik_str', 'ticker', 'title', 'sic', 'sicDescription', 'category', 'entityType', 'exchanges', 'fiscalYearEnd', 'stateOfIncorporation']\n"
     ]
    }
   ],
   "source": [
    "# Load the Company_Data CSV file\n",
    "company_data = pd.read_csv('company_data.csv')\n",
    "\n",
    "# Check column names\n",
    "print(\"Columns in company_data:\", company_data.columns.tolist())"
   ]
  },
  {
   "cell_type": "code",
   "execution_count": 5,
   "metadata": {},
   "outputs": [],
   "source": [
    "# Function to retrieve all tickers associated with a given CIK number\n",
    "def get_related_tickers(cik_str, data):\n",
    "    # Ensure CIK is treated as integer \n",
    "    related_data = data[data['cik_str'] == int(cik_str)]\n",
    "    return related_data"
   ]
  },
  {
   "cell_type": "markdown",
   "metadata": {},
   "source": [
    "### 3. Data Preparation"
   ]
  },
  {
   "cell_type": "code",
   "execution_count": 6,
   "metadata": {},
   "outputs": [
    {
     "data": {
      "text/html": [
       "<div>\n",
       "<style scoped>\n",
       "    .dataframe tbody tr th:only-of-type {\n",
       "        vertical-align: middle;\n",
       "    }\n",
       "\n",
       "    .dataframe tbody tr th {\n",
       "        vertical-align: top;\n",
       "    }\n",
       "\n",
       "    .dataframe thead th {\n",
       "        text-align: right;\n",
       "    }\n",
       "</style>\n",
       "<table border=\"1\" class=\"dataframe\">\n",
       "  <thead>\n",
       "    <tr style=\"text-align: right;\">\n",
       "      <th></th>\n",
       "      <th>cik_str</th>\n",
       "      <th>Scandal Year</th>\n",
       "      <th>Ticker</th>\n",
       "      <th>Company Name</th>\n",
       "      <th>Anomaly Ticker</th>\n",
       "      <th>Detail</th>\n",
       "    </tr>\n",
       "  </thead>\n",
       "  <tbody>\n",
       "    <tr>\n",
       "      <th>0</th>\n",
       "      <td>5272</td>\n",
       "      <td>2008</td>\n",
       "      <td>AIG</td>\n",
       "      <td>AMERICAN INTERNATIONAL GROUP, INC.</td>\n",
       "      <td>AIG</td>\n",
       "      <td>Financial Misrepresentaion</td>\n",
       "    </tr>\n",
       "    <tr>\n",
       "      <th>1</th>\n",
       "      <td>5272</td>\n",
       "      <td>2008</td>\n",
       "      <td>AIG-PA</td>\n",
       "      <td>AMERICAN INTERNATIONAL GROUP, INC.</td>\n",
       "      <td>AIG</td>\n",
       "      <td>Financial Misrepresentaion</td>\n",
       "    </tr>\n",
       "    <tr>\n",
       "      <th>2</th>\n",
       "      <td>310522</td>\n",
       "      <td>2004</td>\n",
       "      <td>FNMA</td>\n",
       "      <td>FEDERAL NATIONAL MORTGAGE ASSOCIATION FANNIE MAE</td>\n",
       "      <td>FNM</td>\n",
       "      <td>Accounting Irregularities</td>\n",
       "    </tr>\n",
       "    <tr>\n",
       "      <th>3</th>\n",
       "      <td>310522</td>\n",
       "      <td>2004</td>\n",
       "      <td>FNMAS</td>\n",
       "      <td>FEDERAL NATIONAL MORTGAGE ASSOCIATION FANNIE MAE</td>\n",
       "      <td>FNM</td>\n",
       "      <td>Accounting Irregularities</td>\n",
       "    </tr>\n",
       "    <tr>\n",
       "      <th>4</th>\n",
       "      <td>310522</td>\n",
       "      <td>2004</td>\n",
       "      <td>FNMAH</td>\n",
       "      <td>FEDERAL NATIONAL MORTGAGE ASSOCIATION FANNIE MAE</td>\n",
       "      <td>FNM</td>\n",
       "      <td>Accounting Irregularities</td>\n",
       "    </tr>\n",
       "    <tr>\n",
       "      <th>...</th>\n",
       "      <td>...</td>\n",
       "      <td>...</td>\n",
       "      <td>...</td>\n",
       "      <td>...</td>\n",
       "      <td>...</td>\n",
       "      <td>...</td>\n",
       "    </tr>\n",
       "    <tr>\n",
       "      <th>168</th>\n",
       "      <td>703351</td>\n",
       "      <td>2015</td>\n",
       "      <td>EAT</td>\n",
       "      <td>BRINKER INTERNATIONAL, INC</td>\n",
       "      <td>EAT</td>\n",
       "      <td>Brinker International (Labor practices investi...</td>\n",
       "    </tr>\n",
       "    <tr>\n",
       "      <th>169</th>\n",
       "      <td>887596</td>\n",
       "      <td>2019</td>\n",
       "      <td>CAKE</td>\n",
       "      <td>CHEESECAKE FACTORY INC</td>\n",
       "      <td>CAKE</td>\n",
       "      <td>Cheesecake Factory (Wage theft)</td>\n",
       "    </tr>\n",
       "    <tr>\n",
       "      <th>170</th>\n",
       "      <td>1013488</td>\n",
       "      <td>2020</td>\n",
       "      <td>BJRI</td>\n",
       "      <td>BJs RESTAURANTS INC</td>\n",
       "      <td>BJRI</td>\n",
       "      <td>BJ's Restaurants (Wage theft)</td>\n",
       "    </tr>\n",
       "    <tr>\n",
       "      <th>171</th>\n",
       "      <td>1171759</td>\n",
       "      <td>2018</td>\n",
       "      <td>RRGB</td>\n",
       "      <td>RED ROBIN GOURMET BURGERS INC</td>\n",
       "      <td>RRGB</td>\n",
       "      <td>Red Robin Gourmet Burgers (Wage theft)</td>\n",
       "    </tr>\n",
       "    <tr>\n",
       "      <th>172</th>\n",
       "      <td>1525769</td>\n",
       "      <td>2019</td>\n",
       "      <td>PLAY</td>\n",
       "      <td>Dave &amp; Buster's Entertainment, Inc.</td>\n",
       "      <td>PLAY</td>\n",
       "      <td>Dave &amp; Buster's (Wage theft)</td>\n",
       "    </tr>\n",
       "  </tbody>\n",
       "</table>\n",
       "<p>173 rows × 6 columns</p>\n",
       "</div>"
      ],
      "text/plain": [
       "     cik_str Scandal Year  Ticker  \\\n",
       "0       5272         2008     AIG   \n",
       "1       5272         2008  AIG-PA   \n",
       "2     310522         2004    FNMA   \n",
       "3     310522         2004   FNMAS   \n",
       "4     310522         2004   FNMAH   \n",
       "..       ...          ...     ...   \n",
       "168   703351         2015     EAT   \n",
       "169   887596         2019    CAKE   \n",
       "170  1013488         2020    BJRI   \n",
       "171  1171759         2018    RRGB   \n",
       "172  1525769         2019    PLAY   \n",
       "\n",
       "                                         Company Name Anomaly Ticker  \\\n",
       "0                  AMERICAN INTERNATIONAL GROUP, INC.            AIG   \n",
       "1                  AMERICAN INTERNATIONAL GROUP, INC.            AIG   \n",
       "2    FEDERAL NATIONAL MORTGAGE ASSOCIATION FANNIE MAE            FNM   \n",
       "3    FEDERAL NATIONAL MORTGAGE ASSOCIATION FANNIE MAE            FNM   \n",
       "4    FEDERAL NATIONAL MORTGAGE ASSOCIATION FANNIE MAE            FNM   \n",
       "..                                                ...            ...   \n",
       "168                        BRINKER INTERNATIONAL, INC            EAT   \n",
       "169                            CHEESECAKE FACTORY INC           CAKE   \n",
       "170                               BJs RESTAURANTS INC           BJRI   \n",
       "171                     RED ROBIN GOURMET BURGERS INC           RRGB   \n",
       "172               Dave & Buster's Entertainment, Inc.           PLAY   \n",
       "\n",
       "                                                Detail  \n",
       "0                           Financial Misrepresentaion  \n",
       "1                           Financial Misrepresentaion  \n",
       "2                            Accounting Irregularities  \n",
       "3                            Accounting Irregularities  \n",
       "4                            Accounting Irregularities  \n",
       "..                                                 ...  \n",
       "168  Brinker International (Labor practices investi...  \n",
       "169                    Cheesecake Factory (Wage theft)  \n",
       "170                      BJ's Restaurants (Wage theft)  \n",
       "171             Red Robin Gourmet Burgers (Wage theft)  \n",
       "172                       Dave & Buster's (Wage theft)  \n",
       "\n",
       "[173 rows x 6 columns]"
      ]
     },
     "execution_count": 6,
     "metadata": {},
     "output_type": "execute_result"
    }
   ],
   "source": [
    "# Define the anomaly data list\n",
    "anomaly_data = []\n",
    "\n",
    "# Loop to populate anomaly data\n",
    "for cik_str, anomaly_ticker, scandal_year, detail in companies_with_anomalies:\n",
    "    related_tickers_data = get_related_tickers(cik_str, company_data)\n",
    "    if not related_tickers_data.empty:\n",
    "        for index, row in related_tickers_data.iterrows():\n",
    "            anomaly_data.append({\n",
    "                'cik_str': cik_str,\n",
    "                'Scandal Year': scandal_year,\n",
    "                'Ticker': row['ticker'],\n",
    "                'Company Name': row['title'],\n",
    "                'Anomaly Ticker': anomaly_ticker,\n",
    "                'Detail': detail\n",
    "            })\n",
    "\n",
    "# Convert the list of dictionaries into a DataFrame\n",
    "anomaly_df = pd.DataFrame(anomaly_data)\n",
    "\n",
    "anomaly_df"
   ]
  },
  {
   "cell_type": "code",
   "execution_count": 10,
   "metadata": {},
   "outputs": [],
   "source": [
    "# Save DataFrame to a CSV file\n",
    "anomaly_df.to_csv('companies_with_anomalies.csv', index=False)\n"
   ]
  },
  {
   "cell_type": "markdown",
   "metadata": {},
   "source": [
    "### Next Steps\n",
    "\n",
    "We plan to query the tickers from our DataFrame against the EDGAR database to retrieve specific financial statements from the anomaly years. Each financial statement retrieved will be reviewed to validate the anomalies and then used for training our model.\n"
   ]
  },
  {
   "cell_type": "code",
   "execution_count": null,
   "metadata": {},
   "outputs": [],
   "source": []
  }
 ],
 "metadata": {
  "kernelspec": {
   "display_name": "base",
   "language": "python",
   "name": "python3"
  },
  "language_info": {
   "codemirror_mode": {
    "name": "ipython",
    "version": 3
   },
   "file_extension": ".py",
   "mimetype": "text/x-python",
   "name": "python",
   "nbconvert_exporter": "python",
   "pygments_lexer": "ipython3",
   "version": "3.11.7"
  }
 },
 "nbformat": 4,
 "nbformat_minor": 2
}
