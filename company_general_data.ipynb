{
 "cells": [
  {
   "cell_type": "markdown",
   "id": "31c8c794",
   "metadata": {},
   "source": [
    "### Company General Data\n",
    "This script is used to work with the company tickers API https://www.sec.gov/files/company_tickers.json\n",
    "and the submissions API https://data.sec.gov/submissions/CIK{cik}.json \n",
    "\n",
    "in order to retrieve the general information of the companies present in the EDGAR DataBase"
   ]
  },
  {
   "cell_type": "code",
   "execution_count": 2,
   "id": "d588ded3",
   "metadata": {},
   "outputs": [],
   "source": [
    "import requests\n",
    "import pandas as pd\n",
    "import numpy as np"
   ]
  },
  {
   "cell_type": "code",
   "execution_count": 3,
   "id": "3b2939be",
   "metadata": {},
   "outputs": [],
   "source": [
    "headers = {'User-Agent': \"jose.trindade@bts.tech\"}\n",
    "company_tickers = requests.get(\"https://www.sec.gov/files/company_tickers.json\",\n",
    "                              headers = headers)\n",
    "\n",
    "company_tickers_json = company_tickers.json()"
   ]
  },
  {
   "cell_type": "code",
   "execution_count": 10,
   "id": "f63a40e9",
   "metadata": {},
   "outputs": [
    {
     "data": {
      "text/html": [
       "<div>\n",
       "<style scoped>\n",
       "    .dataframe tbody tr th:only-of-type {\n",
       "        vertical-align: middle;\n",
       "    }\n",
       "\n",
       "    .dataframe tbody tr th {\n",
       "        vertical-align: top;\n",
       "    }\n",
       "\n",
       "    .dataframe thead th {\n",
       "        text-align: right;\n",
       "    }\n",
       "</style>\n",
       "<table border=\"1\" class=\"dataframe\">\n",
       "  <thead>\n",
       "    <tr style=\"text-align: right;\">\n",
       "      <th></th>\n",
       "      <th>cik_str</th>\n",
       "      <th>ticker</th>\n",
       "      <th>title</th>\n",
       "    </tr>\n",
       "  </thead>\n",
       "  <tbody>\n",
       "    <tr>\n",
       "      <th>0</th>\n",
       "      <td>320193</td>\n",
       "      <td>AAPL</td>\n",
       "      <td>Apple Inc.</td>\n",
       "    </tr>\n",
       "    <tr>\n",
       "      <th>1</th>\n",
       "      <td>789019</td>\n",
       "      <td>MSFT</td>\n",
       "      <td>MICROSOFT CORP</td>\n",
       "    </tr>\n",
       "    <tr>\n",
       "      <th>2</th>\n",
       "      <td>1652044</td>\n",
       "      <td>GOOGL</td>\n",
       "      <td>Alphabet Inc.</td>\n",
       "    </tr>\n",
       "    <tr>\n",
       "      <th>3</th>\n",
       "      <td>1018724</td>\n",
       "      <td>AMZN</td>\n",
       "      <td>AMAZON COM INC</td>\n",
       "    </tr>\n",
       "    <tr>\n",
       "      <th>4</th>\n",
       "      <td>1045810</td>\n",
       "      <td>NVDA</td>\n",
       "      <td>NVIDIA CORP</td>\n",
       "    </tr>\n",
       "    <tr>\n",
       "      <th>...</th>\n",
       "      <td>...</td>\n",
       "      <td>...</td>\n",
       "      <td>...</td>\n",
       "    </tr>\n",
       "    <tr>\n",
       "      <th>10563</th>\n",
       "      <td>1392694</td>\n",
       "      <td>SURGW</td>\n",
       "      <td>SurgePays, Inc.</td>\n",
       "    </tr>\n",
       "    <tr>\n",
       "      <th>10564</th>\n",
       "      <td>1498382</td>\n",
       "      <td>DMPWW</td>\n",
       "      <td>Kintara Therapeutics, Inc.</td>\n",
       "    </tr>\n",
       "    <tr>\n",
       "      <th>10565</th>\n",
       "      <td>1848821</td>\n",
       "      <td>GTACU</td>\n",
       "      <td>Global Technology Acquisition Corp. I</td>\n",
       "    </tr>\n",
       "    <tr>\n",
       "      <th>10566</th>\n",
       "      <td>1848821</td>\n",
       "      <td>GTACW</td>\n",
       "      <td>Global Technology Acquisition Corp. I</td>\n",
       "    </tr>\n",
       "    <tr>\n",
       "      <th>10567</th>\n",
       "      <td>1820875</td>\n",
       "      <td>CXAIW</td>\n",
       "      <td>CXApp Inc.</td>\n",
       "    </tr>\n",
       "  </tbody>\n",
       "</table>\n",
       "<p>10568 rows × 3 columns</p>\n",
       "</div>"
      ],
      "text/plain": [
       "       cik_str ticker                                  title\n",
       "0       320193   AAPL                             Apple Inc.\n",
       "1       789019   MSFT                         MICROSOFT CORP\n",
       "2      1652044  GOOGL                          Alphabet Inc.\n",
       "3      1018724   AMZN                         AMAZON COM INC\n",
       "4      1045810   NVDA                            NVIDIA CORP\n",
       "...        ...    ...                                    ...\n",
       "10563  1392694  SURGW                        SurgePays, Inc.\n",
       "10564  1498382  DMPWW             Kintara Therapeutics, Inc.\n",
       "10565  1848821  GTACU  Global Technology Acquisition Corp. I\n",
       "10566  1848821  GTACW  Global Technology Acquisition Corp. I\n",
       "10567  1820875  CXAIW                             CXApp Inc.\n",
       "\n",
       "[10568 rows x 3 columns]"
      ]
     },
     "execution_count": 10,
     "metadata": {},
     "output_type": "execute_result"
    }
   ],
   "source": [
    "list_dicts = [company_tickers_json[company] for company in company_tickers_json]\n",
    "companyData = pd.DataFrame(list_dicts)\n",
    "companyData"
   ]
  },
  {
   "cell_type": "code",
   "execution_count": 11,
   "id": "b7ea15d4",
   "metadata": {},
   "outputs": [
    {
     "data": {
      "text/html": [
       "<div>\n",
       "<style scoped>\n",
       "    .dataframe tbody tr th:only-of-type {\n",
       "        vertical-align: middle;\n",
       "    }\n",
       "\n",
       "    .dataframe tbody tr th {\n",
       "        vertical-align: top;\n",
       "    }\n",
       "\n",
       "    .dataframe thead th {\n",
       "        text-align: right;\n",
       "    }\n",
       "</style>\n",
       "<table border=\"1\" class=\"dataframe\">\n",
       "  <thead>\n",
       "    <tr style=\"text-align: right;\">\n",
       "      <th></th>\n",
       "      <th>cik_str</th>\n",
       "      <th>ticker</th>\n",
       "      <th>title</th>\n",
       "    </tr>\n",
       "  </thead>\n",
       "  <tbody>\n",
       "    <tr>\n",
       "      <th>0</th>\n",
       "      <td>0000320193</td>\n",
       "      <td>AAPL</td>\n",
       "      <td>Apple Inc.</td>\n",
       "    </tr>\n",
       "    <tr>\n",
       "      <th>1</th>\n",
       "      <td>0000789019</td>\n",
       "      <td>MSFT</td>\n",
       "      <td>MICROSOFT CORP</td>\n",
       "    </tr>\n",
       "    <tr>\n",
       "      <th>2</th>\n",
       "      <td>0001652044</td>\n",
       "      <td>GOOGL</td>\n",
       "      <td>Alphabet Inc.</td>\n",
       "    </tr>\n",
       "    <tr>\n",
       "      <th>3</th>\n",
       "      <td>0001018724</td>\n",
       "      <td>AMZN</td>\n",
       "      <td>AMAZON COM INC</td>\n",
       "    </tr>\n",
       "    <tr>\n",
       "      <th>4</th>\n",
       "      <td>0001045810</td>\n",
       "      <td>NVDA</td>\n",
       "      <td>NVIDIA CORP</td>\n",
       "    </tr>\n",
       "    <tr>\n",
       "      <th>...</th>\n",
       "      <td>...</td>\n",
       "      <td>...</td>\n",
       "      <td>...</td>\n",
       "    </tr>\n",
       "    <tr>\n",
       "      <th>10563</th>\n",
       "      <td>0001392694</td>\n",
       "      <td>SURGW</td>\n",
       "      <td>SurgePays, Inc.</td>\n",
       "    </tr>\n",
       "    <tr>\n",
       "      <th>10564</th>\n",
       "      <td>0001498382</td>\n",
       "      <td>DMPWW</td>\n",
       "      <td>Kintara Therapeutics, Inc.</td>\n",
       "    </tr>\n",
       "    <tr>\n",
       "      <th>10565</th>\n",
       "      <td>0001848821</td>\n",
       "      <td>GTACU</td>\n",
       "      <td>Global Technology Acquisition Corp. I</td>\n",
       "    </tr>\n",
       "    <tr>\n",
       "      <th>10566</th>\n",
       "      <td>0001848821</td>\n",
       "      <td>GTACW</td>\n",
       "      <td>Global Technology Acquisition Corp. I</td>\n",
       "    </tr>\n",
       "    <tr>\n",
       "      <th>10567</th>\n",
       "      <td>0001820875</td>\n",
       "      <td>CXAIW</td>\n",
       "      <td>CXApp Inc.</td>\n",
       "    </tr>\n",
       "  </tbody>\n",
       "</table>\n",
       "<p>10568 rows × 3 columns</p>\n",
       "</div>"
      ],
      "text/plain": [
       "          cik_str ticker                                  title\n",
       "0      0000320193   AAPL                             Apple Inc.\n",
       "1      0000789019   MSFT                         MICROSOFT CORP\n",
       "2      0001652044  GOOGL                          Alphabet Inc.\n",
       "3      0001018724   AMZN                         AMAZON COM INC\n",
       "4      0001045810   NVDA                            NVIDIA CORP\n",
       "...           ...    ...                                    ...\n",
       "10563  0001392694  SURGW                        SurgePays, Inc.\n",
       "10564  0001498382  DMPWW             Kintara Therapeutics, Inc.\n",
       "10565  0001848821  GTACU  Global Technology Acquisition Corp. I\n",
       "10566  0001848821  GTACW  Global Technology Acquisition Corp. I\n",
       "10567  0001820875  CXAIW                             CXApp Inc.\n",
       "\n",
       "[10568 rows x 3 columns]"
      ]
     },
     "execution_count": 11,
     "metadata": {},
     "output_type": "execute_result"
    }
   ],
   "source": [
    "# We need to add zeros because some CIKs differ in digits and the API needs 10 digit CIK. \n",
    "\n",
    "companyData['cik_str'] = companyData['cik_str'].astype(str).str.zfill(10)\n",
    "companyData"
   ]
  },
  {
   "cell_type": "markdown",
   "id": "0479ff63",
   "metadata": {},
   "source": [
    "**Next step**: In order to retrieve more data about the companies we need to use submissions API and combine the data. Let's get the following columns: sic, sicDescription, category, entityType, exchanges, fiscalYearEnd, stateOfIncorporation and build a DataFrame"
   ]
  },
  {
   "cell_type": "code",
   "execution_count": 12,
   "id": "d21f62ca",
   "metadata": {},
   "outputs": [],
   "source": [
    "# List of columns to create based on API data\n",
    "columns_to_create = ['sic', 'sicDescription', 'category', 'entityType', 'exchanges', 'fiscalYearEnd', 'stateOfIncorporation']"
   ]
  },
  {
   "cell_type": "code",
   "execution_count": 13,
   "id": "571e9e48",
   "metadata": {},
   "outputs": [],
   "source": [
    "# Function to create columns based on json fetched\n",
    "def fetch_and_create_columns(df, cik_column, fetch_function, new_columns):\n",
    "    \n",
    "    #Copy df\n",
    "    df = df.copy()\n",
    "    \n",
    "    # Apply the fetch_function to each row in the DataFrame\n",
    "    df['ApiData'] = df[cik_column].apply(fetch_function)\n",
    "\n",
    "    # Create new columns based on the API data using .loc for assignment\n",
    "    for column in new_columns:\n",
    "        df.loc[:, column] = df['ApiData'].apply(lambda x: x[column] if x else None)\n",
    "\n",
    "    # Drop the 'ApiData' column if no longer needed\n",
    "    df = df.drop('ApiData', axis=1)\n",
    "\n",
    "    return df\n",
    "\n",
    "\n",
    "# Function to fetch additional data from the API\n",
    "def fetch_data_from_api(cik):\n",
    "    # Replace the following URL with your API endpoint\n",
    "    headers = {'User-Agent': \"jose.trindade@bts.tech\"}\n",
    "    api_url = f\"https://data.sec.gov/submissions/CIK{cik}.json\"\n",
    "    response = requests.get(api_url, headers = headers)\n",
    "    \n",
    "    \n",
    "    if response.status_code == 200:\n",
    "        # Assume the API returns a JSON response\n",
    "        return response.json()\n",
    "    else:\n",
    "        return None"
   ]
  },
  {
   "cell_type": "code",
   "execution_count": null,
   "id": "54c628c1",
   "metadata": {},
   "outputs": [],
   "source": [
    "# DONT RUN THIS UNLESS YOU DON'T HAVE THE DATA ALREADY\n",
    "# Get df with 10568 companies with new accounting columns\n",
    "#complete_CompanyData = fetch_and_create_columns(companyData, 'cik_str', fetch_data_from_api, columns_to_create)"
   ]
  },
  {
   "cell_type": "code",
   "execution_count": null,
   "id": "117e67be",
   "metadata": {},
   "outputs": [],
   "source": [
    "# DONT RUN THIS UNLESS YOU DON'T HAVE THE DATA ALREADY\n",
    "# Export df with 10568 companies to csv\n",
    "#complete_CompanyData.to_csv(\"Company_Data.csv\")"
   ]
  },
  {
   "cell_type": "code",
   "execution_count": 75,
   "id": "febdbf3b",
   "metadata": {},
   "outputs": [],
   "source": [
    "# Importing the data generated above\n",
    "df = pd.read_csv(\"Company_Data.csv\", index_col=0)"
   ]
  },
  {
   "cell_type": "code",
   "execution_count": 76,
   "id": "db70c783",
   "metadata": {},
   "outputs": [],
   "source": [
    "# SOME REFORMAT\n",
    "\n",
    "# Format the fiscalYearEnd\n",
    "df['fiscalYearEnd'] = pd.to_datetime(df['fiscalYearEnd'], errors='coerce', format='%m%d')\n",
    "df['fiscalYearEnd'] = df['fiscalYearEnd'].dt.strftime('%d-%m')\n",
    "\n",
    "# Filling NaN with the value 0 and changing the type from float to integer\n",
    "df[\"sic\"] = df[\"sic\"].fillna(0).astype(int)\n",
    "\n",
    "# Exporting it back to csv\n",
    "df.to_csv(\"Company_Data.csv\")"
   ]
  },
  {
   "cell_type": "code",
   "execution_count": 3,
   "id": "c5b80b9c",
   "metadata": {},
   "outputs": [],
   "source": [
    "company_data = pd.read_csv(\"Company_Data.csv\", index_col=0)"
   ]
  },
  {
   "cell_type": "code",
   "execution_count": 22,
   "id": "be1c83ab",
   "metadata": {},
   "outputs": [],
   "source": [
    "# Number of companies per SIC\n",
    "count_sic = company_data.groupby([\"sic\",\"sicDescription\"]).agg(\"count\").sort_values(\n",
    "                    by=\"cik_str\", ascending = False)[[\"cik_str\"]].rename(\n",
    "                                    columns = {\"cik_str\":\"count\"}).reset_index()"
   ]
  },
  {
   "cell_type": "code",
   "execution_count": 24,
   "id": "5f627296",
   "metadata": {},
   "outputs": [
    {
     "data": {
      "text/html": [
       "<div>\n",
       "<style scoped>\n",
       "    .dataframe tbody tr th:only-of-type {\n",
       "        vertical-align: middle;\n",
       "    }\n",
       "\n",
       "    .dataframe tbody tr th {\n",
       "        vertical-align: top;\n",
       "    }\n",
       "\n",
       "    .dataframe thead th {\n",
       "        text-align: right;\n",
       "    }\n",
       "</style>\n",
       "<table border=\"1\" class=\"dataframe\">\n",
       "  <thead>\n",
       "    <tr style=\"text-align: right;\">\n",
       "      <th></th>\n",
       "      <th>sic</th>\n",
       "      <th>sicDescription</th>\n",
       "      <th>count</th>\n",
       "    </tr>\n",
       "  </thead>\n",
       "  <tbody>\n",
       "    <tr>\n",
       "      <th>223</th>\n",
       "      <td>3571</td>\n",
       "      <td>Electronic Computers</td>\n",
       "      <td>7</td>\n",
       "    </tr>\n",
       "  </tbody>\n",
       "</table>\n",
       "</div>"
      ],
      "text/plain": [
       "      sic        sicDescription  count\n",
       "223  3571  Electronic Computers      7"
      ]
     },
     "execution_count": 24,
     "metadata": {},
     "output_type": "execute_result"
    }
   ],
   "source": [
    "# Number of companies with the same SIC as Apple\n",
    "count_sic[count_sic[\"sic\"]==3571]"
   ]
  },
  {
   "cell_type": "code",
   "execution_count": 25,
   "id": "c0e44c2b",
   "metadata": {},
   "outputs": [],
   "source": [
    "count_sic.to_csv(\"companies_per_sic\")"
   ]
  },
  {
   "cell_type": "markdown",
   "id": "1428d53a",
   "metadata": {},
   "source": [
    "### Output\n",
    "The Output of this script is:\n",
    "- a csv file that contains the general information about companies listed in SEC.\n",
    "- a csv file that contains the number of companies per SIC"
   ]
  },
  {
   "cell_type": "code",
   "execution_count": null,
   "id": "c96fbb13",
   "metadata": {},
   "outputs": [],
   "source": []
  }
 ],
 "metadata": {
  "kernelspec": {
   "display_name": "Python 3 (ipykernel)",
   "language": "python",
   "name": "python3"
  },
  "language_info": {
   "codemirror_mode": {
    "name": "ipython",
    "version": 3
   },
   "file_extension": ".py",
   "mimetype": "text/x-python",
   "name": "python",
   "nbconvert_exporter": "python",
   "pygments_lexer": "ipython3",
   "version": "3.11.7"
  }
 },
 "nbformat": 4,
 "nbformat_minor": 5
}
