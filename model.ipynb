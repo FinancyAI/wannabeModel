{
 "cells": [
  {
   "cell_type": "code",
   "execution_count": 10,
   "id": "initial_id",
   "metadata": {
    "collapsed": true,
    "ExecuteTime": {
     "end_time": "2024-06-05T07:58:17.584793600Z",
     "start_time": "2024-06-05T07:58:17.549812600Z"
    }
   },
   "outputs": [],
   "source": [
    "import pandas as pd\n",
    "from sklearn.ensemble import IsolationForest\n",
    "from sklearn.preprocessing import StandardScaler\n",
    "from sklearn.model_selection import train_test_split\n",
    "from sklearn.metrics import classification_report, accuracy_score\n",
    "import psycopg2"
   ]
  },
  {
   "cell_type": "code",
   "execution_count": 8,
   "outputs": [],
   "source": [
    "dbname=''\n",
    "user='postgres'\n",
    "password='postgres1234'\n",
    "host='database-financy-1.cxoug4ik83tt.us-east-1.rds.amazonaws.com'\n",
    "port=5432"
   ],
   "metadata": {
    "collapsed": false,
    "ExecuteTime": {
     "end_time": "2024-06-05T07:58:10.247030200Z",
     "start_time": "2024-06-05T07:58:10.238951600Z"
    }
   },
   "id": "6267aa5a7c1ddef8"
  },
  {
   "cell_type": "code",
   "execution_count": 41,
   "outputs": [],
   "source": [
    "companies_with_anomalies = [\n",
    "    (\"5272\", \"AIG\", \"2008\", \"Financial Misrepresentaion\"),\n",
    "    (\"310522\", \"FNM\", \"2004\", \"Accounting Irregularities\"),\n",
    "    (\"18926\", \"Q (Quest Communications)\", \"2002\", \"Accounting Fraud.\"),\n",
    "    (\"72971\", \"WFC\", \"2016\", \"Consumer Fraud\"),\n",
    "    (\"1159508\", \"DB\", \"2015\", \"Wire Fraud\"),\n",
    "    (\"1114446\", \"UBS\", \"2011\", \"Tax Evasion\"),\n",
    "    (\"14272\", \"BMY\", \"2002\", \"Financial Misrepresentation\"),\n",
    "    (\"831001\", \"C\", \"2008\", \"Security Fraud\"),\n",
    "    (\"19617\", \"JPM\", \"2012\", \"Trading Fraud\"),\n",
    "    (\"1131399\", \"GSK\", \"2012\", \"Health Care Fraud\"),\n",
    "    (\"312070\", \"BARC\", \"2012\", \"Involved in the Libor rate-manipulation scandal\"),\n",
    "    (\"1119639\", \"PBR\", \"2014\", \"Petrobras\"),\n",
    "    (\"96223\", \"LUK\", \"2005\", \"Leucadia National (involved in Refco scandal, now part of Jefferies Financial Group, ticker 'JEF')\"),\n",
    "    (\"18926\", \"LUMN\", \"2002\", \"Lumen Technologies (formerly CenturyLink)\"),\n",
    "    (\"47217\", \"HPQ\", \"2012\", \"HP Inc. (involved in the aftermath of Autonomy scandal)\"),\n",
    "    (\"1490281\", \"GRPN\", \"2012\", \"Groupon (accounting irregularities post-IPO)\"),\n",
    "    (\"1119639\", \"PETR4.SA\", \"2014\", \"Petrobras (Brazil)\"),\n",
    "    (\"1767582\", \"LKI\", \"2020\", \"Luckin Coffee (China)\"),\n",
    "    (\"1467858\", \"GM\", \"2014\", \"General Motors (U.S., ignition switch scandal)\"),\n",
    "    (\"789019\", \"MSFT\", \"2001\", \"Microsoft (Accounting investigations)\"),\n",
    "    (\"27419\", \"TGT\", \"2008\", \"Target Corporation (Data breach)\"),\n",
    "    (\"833444\", \"JCI\", \"2005\", \"Johnson Controls (Bribery scandal)\"),\n",
    "    (\"354950\", \"HD\", \"2010\", \"Home Depot (Data breach)\"),\n",
    "    (\"1300514\", \"LVS\", \"2013\", \"Las Vegas Sands (Money laundering)\"),\n",
    "    (\"320193\", \"AAPL\", \"2014\", \"Apple Inc. (Antitrust investigations)\"),\n",
    "    (\"70858\", \"BAC\", \"2008\", \"Bank of America (Mortgage fraud)\"),\n",
    "    (\"1318605\", \"TSLA\", \"2018\", \"Tesla Inc. (Elon Musk's misleading tweets)\"),\n",
    "    (\"1018724\", \"AMZN\", \"2020\", \"Amazon (Price gouging investigations)\"),\n",
    "    (\"1652044\", \"GOOG\", \"2019\", \"Google (Antitrust investigations)\"),\n",
    "    (\"50863\", \"INTC\", \"2014\", \"Intel (Antitrust investigations)\"),\n",
    "    (\"51143\", \"IBM\", \"2005\", \"IBM (Bribery scandal)\"),\n",
    "    (\"77476\", \"PEP\", \"2016\", \"PepsiCo (Bribery scandal)\"),\n",
    "    (\"829224\", \"SBUX\", \"2018\", \"Starbucks (Racial bias scandal)\"),\n",
    "    (\"40545\", \"GE\", \"2009\", \"General Electric (Accounting fraud)\"),\n",
    "    (\"1065280\", \"NFLX\", \"2013\", \"Netflix (Insider trading)\"),\n",
    "    (\"2488\", \"AMD\", \"2009\", \"AMD (Antitrust lawsuit)\"),\n",
    "    (\"858877\", \"CSCO\", \"2013\", \"Cisco Systems (Whistleblower case)\"),\n",
    "    (\"1341439\", \"ORCL\", \"2011\", \"Oracle (Bribery scandal)\"),\n",
    "    (\"804328\", \"QCOM\", \"2018\", \"Qualcomm (Antitrust lawsuit)\"),\n",
    "    (\"1065088\", \"EBAY\", \"2014\", \"eBay (Data breach)\"),\n",
    "    (\"1633917\", \"PYPL\", \"2019\", \"PayPal (Consumer fraud)\"),\n",
    "    (\"1512673\", \"SQ\", \"2019\", \"Square (Data breach)\"),\n",
    "    (\"1759509\", \"LYFT\", \"2019\", \"Lyft (Labor practices investigation)\"),\n",
    "    (\"100493\", \"TSN\", \"2019\", \"Tyson Foods (Labor practices investigation)\"),\n",
    "    (\"63754\", \"MKC\", \"2018\", \"McCormick & Company (Price-fixing scandal)\"),\n",
    "    (\"91419\", \"SJM\", \"2017\", \"J.M. Smucker Company (Misleading labeling)\"),\n",
    "    (\"1637459\", \"KHC\", \"2019\", \"Kraft Heinz (Accounting scandal)\"),\n",
    "    (\"1103982\", \"MDLZ\", \"2017\", \"Mondelez International (Price-fixing)\"),\n",
    "    (\"60086\", \"L\", \"2015\", \"Loews Corporation (Environmental violations)\"),\n",
    "    (\"1041061\", \"YUM\", \"2013\", \"Yum! Brands (Food safety scandal)\"),\n",
    "    (\"1286681\", \"DPZ\", \"2018\", \"Domino's Pizza (Wage theft)\"),\n",
    "    (\"901491\", \"PZZA\", \"2017\", \"Papa John's (Racial slur controversy)\"),\n",
    "    (\"703351\", \"EAT\", \"2015\", \"Brinker International (Labor practices investigation)\"),\n",
    "    (\"887596\", \"CAKE\", \"2019\", \"Cheesecake Factory (Wage theft)\"),\n",
    "    (\"1013488\", \"BJRI\", \"2020\", \"BJ's Restaurants (Wage theft)\"),\n",
    "    (\"1171759\", \"RRGB\", \"2018\", \"Red Robin Gourmet Burgers (Wage theft)\"),\n",
    "    (\"1525769\", \"PLAY\", \"2019\", \"Dave & Buster's (Wage theft)\")\n",
    "]\n"
   ],
   "metadata": {
    "collapsed": false,
    "ExecuteTime": {
     "end_time": "2024-06-05T08:14:31.491170800Z",
     "start_time": "2024-06-05T08:14:31.450685900Z"
    }
   },
   "id": "2e66e53f0defd4"
  },
  {
   "cell_type": "code",
   "execution_count": 11,
   "outputs": [],
   "source": [
    "# Import the data\n",
    "conn = psycopg2.connect(dbname=dbname,\n",
    "                        user=user,\n",
    "                        password=password,\n",
    "                        host=host,\n",
    "                        port=port)\n",
    "cursor = conn.cursor()\n",
    "\n",
    "query = \"\"\"\n",
    "SELECT * FROM edgar_selected_tickers_table\n",
    "\"\"\"\n",
    "cursor.execute(query)\n",
    "results = cursor.fetchall()\n",
    "\n",
    "cursor.close()\n",
    "conn.close()"
   ],
   "metadata": {
    "collapsed": false,
    "ExecuteTime": {
     "end_time": "2024-06-05T07:59:08.649825500Z",
     "start_time": "2024-06-05T07:58:19.167075300Z"
    }
   },
   "id": "659bcabbe5a45ae0"
  },
  {
   "cell_type": "code",
   "execution_count": 15,
   "outputs": [],
   "source": [
    "column_names = ['end_date', 'ticker', 'reporting_frame', 'form', 'account', 'unit', 'value']"
   ],
   "metadata": {
    "collapsed": false,
    "ExecuteTime": {
     "end_time": "2024-06-05T08:01:07.010139600Z",
     "start_time": "2024-06-05T08:01:07.001699900Z"
    }
   },
   "id": "a76148940a7d6b3d"
  },
  {
   "cell_type": "code",
   "execution_count": 16,
   "outputs": [
    {
     "data": {
      "text/plain": "          end_date ticker reporting_frame    form  \\\n0       2009-07-31    AIG             dei  10-Q/A   \n1       2009-10-30    AIG             dei    10-Q   \n2       2010-01-29    AIG             dei    10-K   \n3       2010-04-30    AIG             dei    10-Q   \n4       2010-07-30    AIG             dei    10-Q   \n...            ...    ...             ...     ...   \n667489  2022-12-31    AMD         us-gaap    10-K   \n667490  2023-12-30    AMD         us-gaap    10-K   \n667491  2024-03-30    AMD         us-gaap    10-Q   \n667492  2024-03-30    AMD         us-gaap    10-Q   \n667493  2024-03-30    AMD             srt    10-Q   \n\n                                                  account    unit  \\\n0                      EntityCommonStockSharesOutstanding  shares   \n1                      EntityCommonStockSharesOutstanding  shares   \n2                      EntityCommonStockSharesOutstanding  shares   \n3                      EntityCommonStockSharesOutstanding  shares   \n4                      EntityCommonStockSharesOutstanding  shares   \n...                                                   ...     ...   \n667489                                   OtherReceivables     USD   \n667490                                   OtherReceivables     USD   \n667491  UnrecordedUnconditionalPurchaseObligationBalan...     USD   \n667492  UnrecordedUnconditionalPurchaseObligationBalan...     USD   \n667493            StockRepurchaseProgramAuthorizedAmount1     USD   \n\n               value  \n0       1.345758e+08  \n1       1.346074e+08  \n2       1.349263e+08  \n3       1.350706e+08  \n4       1.351263e+08  \n...              ...  \n667489  2.000000e+06  \n667490  9.000000e+06  \n667491  3.480000e+08  \n667492  1.820000e+08  \n667493  1.200000e+10  \n\n[667494 rows x 7 columns]",
      "text/html": "<div>\n<style scoped>\n    .dataframe tbody tr th:only-of-type {\n        vertical-align: middle;\n    }\n\n    .dataframe tbody tr th {\n        vertical-align: top;\n    }\n\n    .dataframe thead th {\n        text-align: right;\n    }\n</style>\n<table border=\"1\" class=\"dataframe\">\n  <thead>\n    <tr style=\"text-align: right;\">\n      <th></th>\n      <th>end_date</th>\n      <th>ticker</th>\n      <th>reporting_frame</th>\n      <th>form</th>\n      <th>account</th>\n      <th>unit</th>\n      <th>value</th>\n    </tr>\n  </thead>\n  <tbody>\n    <tr>\n      <th>0</th>\n      <td>2009-07-31</td>\n      <td>AIG</td>\n      <td>dei</td>\n      <td>10-Q/A</td>\n      <td>EntityCommonStockSharesOutstanding</td>\n      <td>shares</td>\n      <td>1.345758e+08</td>\n    </tr>\n    <tr>\n      <th>1</th>\n      <td>2009-10-30</td>\n      <td>AIG</td>\n      <td>dei</td>\n      <td>10-Q</td>\n      <td>EntityCommonStockSharesOutstanding</td>\n      <td>shares</td>\n      <td>1.346074e+08</td>\n    </tr>\n    <tr>\n      <th>2</th>\n      <td>2010-01-29</td>\n      <td>AIG</td>\n      <td>dei</td>\n      <td>10-K</td>\n      <td>EntityCommonStockSharesOutstanding</td>\n      <td>shares</td>\n      <td>1.349263e+08</td>\n    </tr>\n    <tr>\n      <th>3</th>\n      <td>2010-04-30</td>\n      <td>AIG</td>\n      <td>dei</td>\n      <td>10-Q</td>\n      <td>EntityCommonStockSharesOutstanding</td>\n      <td>shares</td>\n      <td>1.350706e+08</td>\n    </tr>\n    <tr>\n      <th>4</th>\n      <td>2010-07-30</td>\n      <td>AIG</td>\n      <td>dei</td>\n      <td>10-Q</td>\n      <td>EntityCommonStockSharesOutstanding</td>\n      <td>shares</td>\n      <td>1.351263e+08</td>\n    </tr>\n    <tr>\n      <th>...</th>\n      <td>...</td>\n      <td>...</td>\n      <td>...</td>\n      <td>...</td>\n      <td>...</td>\n      <td>...</td>\n      <td>...</td>\n    </tr>\n    <tr>\n      <th>667489</th>\n      <td>2022-12-31</td>\n      <td>AMD</td>\n      <td>us-gaap</td>\n      <td>10-K</td>\n      <td>OtherReceivables</td>\n      <td>USD</td>\n      <td>2.000000e+06</td>\n    </tr>\n    <tr>\n      <th>667490</th>\n      <td>2023-12-30</td>\n      <td>AMD</td>\n      <td>us-gaap</td>\n      <td>10-K</td>\n      <td>OtherReceivables</td>\n      <td>USD</td>\n      <td>9.000000e+06</td>\n    </tr>\n    <tr>\n      <th>667491</th>\n      <td>2024-03-30</td>\n      <td>AMD</td>\n      <td>us-gaap</td>\n      <td>10-Q</td>\n      <td>UnrecordedUnconditionalPurchaseObligationBalan...</td>\n      <td>USD</td>\n      <td>3.480000e+08</td>\n    </tr>\n    <tr>\n      <th>667492</th>\n      <td>2024-03-30</td>\n      <td>AMD</td>\n      <td>us-gaap</td>\n      <td>10-Q</td>\n      <td>UnrecordedUnconditionalPurchaseObligationBalan...</td>\n      <td>USD</td>\n      <td>1.820000e+08</td>\n    </tr>\n    <tr>\n      <th>667493</th>\n      <td>2024-03-30</td>\n      <td>AMD</td>\n      <td>srt</td>\n      <td>10-Q</td>\n      <td>StockRepurchaseProgramAuthorizedAmount1</td>\n      <td>USD</td>\n      <td>1.200000e+10</td>\n    </tr>\n  </tbody>\n</table>\n<p>667494 rows × 7 columns</p>\n</div>"
     },
     "execution_count": 16,
     "metadata": {},
     "output_type": "execute_result"
    }
   ],
   "source": [
    "df = pd.DataFrame(results, columns=column_names)\n",
    "df"
   ],
   "metadata": {
    "collapsed": false,
    "ExecuteTime": {
     "end_time": "2024-06-05T08:01:12.643700300Z",
     "start_time": "2024-06-05T08:01:12.461030200Z"
    }
   },
   "id": "ff5b715511f42dad"
  },
  {
   "cell_type": "code",
   "execution_count": 22,
   "outputs": [],
   "source": [
    "pivoted_df = df.pivot_table(index=['end_date', 'ticker', 'reporting_frame', 'form', 'unit'], \n",
    "                            columns='account',\n",
    "                            values='value',\n",
    "                            aggfunc='sum',\n",
    "                            fill_value=0)\n",
    "# Fill any NaN values that might be created in the process.\\We have to justify why 0 is a valid value.\n",
    "pivoted_df = pivoted_df.reset_index()"
   ],
   "metadata": {
    "collapsed": false,
    "ExecuteTime": {
     "end_time": "2024-06-05T08:03:59.316520800Z",
     "start_time": "2024-06-05T08:03:56.190411400Z"
    }
   },
   "id": "8131d8ec772a66f0"
  },
  {
   "cell_type": "code",
   "execution_count": 24,
   "outputs": [
    {
     "data": {
      "text/plain": "account    end_date ticker reporting_frame    form unit  \\\n0        1998-12-27    AMD         us-gaap    10-K  USD   \n1        2006-09-30   AAPL         us-gaap    10-K  USD   \n2        2006-09-30   AAPL         us-gaap  10-K/A  USD   \n3        2006-12-31    AIG         us-gaap    10-K  USD   \n4        2006-12-31    AIG         us-gaap     8-K  USD   \n\naccount  AcceleratedShareRepurchasesSettlementPaymentOrReceipt  \\\n0                                                        0       \n1                                                        0       \n2                                                        0       \n3                                                        0       \n4                                                        0       \n\naccount  AccountingProfit  AccountsPayable  \\\n0                       0                0   \n1                       0                0   \n2                       0                0   \n3                       0                0   \n4                       0                0   \n\naccount  AccountsPayableAndAccruedLiabilitiesCurrentAndNoncurrent  \\\n0                                                        0          \n1                                                        0          \n2                                                        0          \n3                                                        0          \n4                                                        0          \n\naccount  AccountsPayableAndOtherAccruedLiabilities  ...  WagesAndSalaries  \\\n0                                                0  ...                 0   \n1                                                0  ...                 0   \n2                                                0  ...                 0   \n3                                                0  ...                 0   \n4                                                0  ...                 0   \n\naccount  WeightedAverageLesseesIncrementalBorrowingRateAppliedToLeaseLiabilitiesRecognisedAtDateOfInitialApplicationOfIFRS16  \\\n0                                                      0.0                                                                     \n1                                                      0.0                                                                     \n2                                                      0.0                                                                     \n3                                                      0.0                                                                     \n4                                                      0.0                                                                     \n\naccount  WeightedAverageNumberDilutedSharesOutstandingAdjustment  \\\n0                                                        0         \n1                                                        0         \n2                                                        0         \n3                                                        0         \n4                                                        0         \n\naccount  WeightedAverageNumberOfDilutedSharesOutstanding  \\\n0                                                      0   \n1                                                      0   \n2                                                      0   \n3                                                      0   \n4                                                      0   \n\naccount  WeightedAverageNumberOfShareOutstandingBasicAndDiluted  \\\n0                                                        0        \n1                                                        0        \n2                                                        0        \n3                                                        0        \n4                                                        0        \n\naccount  WeightedAverageNumberOfSharesContingentlyIssuable  \\\n0                                                        0   \n1                                                        0   \n2                                                        0   \n3                                                        0   \n4                                                        0   \n\naccount  WeightedAverageNumberOfSharesOutstandingBasic  WeightedAverageShares  \\\n0                                                    0                    0.0   \n1                                                    0                    0.0   \n2                                                    0                    0.0   \n3                                                    0                    0.0   \n4                                                    0                    0.0   \n\naccount  WithdrawalFromContractHoldersFunds  WorkersCompensationDiscountAmount  \n0                                         0                                  0  \n1                                         0                                  0  \n2                                         0                                  0  \n3                                         0                                  0  \n4                                         0                                  0  \n\n[5 rows x 2999 columns]",
      "text/html": "<div>\n<style scoped>\n    .dataframe tbody tr th:only-of-type {\n        vertical-align: middle;\n    }\n\n    .dataframe tbody tr th {\n        vertical-align: top;\n    }\n\n    .dataframe thead th {\n        text-align: right;\n    }\n</style>\n<table border=\"1\" class=\"dataframe\">\n  <thead>\n    <tr style=\"text-align: right;\">\n      <th>account</th>\n      <th>end_date</th>\n      <th>ticker</th>\n      <th>reporting_frame</th>\n      <th>form</th>\n      <th>unit</th>\n      <th>AcceleratedShareRepurchasesSettlementPaymentOrReceipt</th>\n      <th>AccountingProfit</th>\n      <th>AccountsPayable</th>\n      <th>AccountsPayableAndAccruedLiabilitiesCurrentAndNoncurrent</th>\n      <th>AccountsPayableAndOtherAccruedLiabilities</th>\n      <th>...</th>\n      <th>WagesAndSalaries</th>\n      <th>WeightedAverageLesseesIncrementalBorrowingRateAppliedToLeaseLiabilitiesRecognisedAtDateOfInitialApplicationOfIFRS16</th>\n      <th>WeightedAverageNumberDilutedSharesOutstandingAdjustment</th>\n      <th>WeightedAverageNumberOfDilutedSharesOutstanding</th>\n      <th>WeightedAverageNumberOfShareOutstandingBasicAndDiluted</th>\n      <th>WeightedAverageNumberOfSharesContingentlyIssuable</th>\n      <th>WeightedAverageNumberOfSharesOutstandingBasic</th>\n      <th>WeightedAverageShares</th>\n      <th>WithdrawalFromContractHoldersFunds</th>\n      <th>WorkersCompensationDiscountAmount</th>\n    </tr>\n  </thead>\n  <tbody>\n    <tr>\n      <th>0</th>\n      <td>1998-12-27</td>\n      <td>AMD</td>\n      <td>us-gaap</td>\n      <td>10-K</td>\n      <td>USD</td>\n      <td>0</td>\n      <td>0</td>\n      <td>0</td>\n      <td>0</td>\n      <td>0</td>\n      <td>...</td>\n      <td>0</td>\n      <td>0.0</td>\n      <td>0</td>\n      <td>0</td>\n      <td>0</td>\n      <td>0</td>\n      <td>0</td>\n      <td>0.0</td>\n      <td>0</td>\n      <td>0</td>\n    </tr>\n    <tr>\n      <th>1</th>\n      <td>2006-09-30</td>\n      <td>AAPL</td>\n      <td>us-gaap</td>\n      <td>10-K</td>\n      <td>USD</td>\n      <td>0</td>\n      <td>0</td>\n      <td>0</td>\n      <td>0</td>\n      <td>0</td>\n      <td>...</td>\n      <td>0</td>\n      <td>0.0</td>\n      <td>0</td>\n      <td>0</td>\n      <td>0</td>\n      <td>0</td>\n      <td>0</td>\n      <td>0.0</td>\n      <td>0</td>\n      <td>0</td>\n    </tr>\n    <tr>\n      <th>2</th>\n      <td>2006-09-30</td>\n      <td>AAPL</td>\n      <td>us-gaap</td>\n      <td>10-K/A</td>\n      <td>USD</td>\n      <td>0</td>\n      <td>0</td>\n      <td>0</td>\n      <td>0</td>\n      <td>0</td>\n      <td>...</td>\n      <td>0</td>\n      <td>0.0</td>\n      <td>0</td>\n      <td>0</td>\n      <td>0</td>\n      <td>0</td>\n      <td>0</td>\n      <td>0.0</td>\n      <td>0</td>\n      <td>0</td>\n    </tr>\n    <tr>\n      <th>3</th>\n      <td>2006-12-31</td>\n      <td>AIG</td>\n      <td>us-gaap</td>\n      <td>10-K</td>\n      <td>USD</td>\n      <td>0</td>\n      <td>0</td>\n      <td>0</td>\n      <td>0</td>\n      <td>0</td>\n      <td>...</td>\n      <td>0</td>\n      <td>0.0</td>\n      <td>0</td>\n      <td>0</td>\n      <td>0</td>\n      <td>0</td>\n      <td>0</td>\n      <td>0.0</td>\n      <td>0</td>\n      <td>0</td>\n    </tr>\n    <tr>\n      <th>4</th>\n      <td>2006-12-31</td>\n      <td>AIG</td>\n      <td>us-gaap</td>\n      <td>8-K</td>\n      <td>USD</td>\n      <td>0</td>\n      <td>0</td>\n      <td>0</td>\n      <td>0</td>\n      <td>0</td>\n      <td>...</td>\n      <td>0</td>\n      <td>0.0</td>\n      <td>0</td>\n      <td>0</td>\n      <td>0</td>\n      <td>0</td>\n      <td>0</td>\n      <td>0.0</td>\n      <td>0</td>\n      <td>0</td>\n    </tr>\n  </tbody>\n</table>\n<p>5 rows × 2999 columns</p>\n</div>"
     },
     "execution_count": 24,
     "metadata": {},
     "output_type": "execute_result"
    }
   ],
   "source": [
    "pivoted_df.head()"
   ],
   "metadata": {
    "collapsed": false,
    "ExecuteTime": {
     "end_time": "2024-06-05T08:04:41.483656300Z",
     "start_time": "2024-06-05T08:04:41.477072700Z"
    }
   },
   "id": "e004863b7fb5ce6f"
  },
  {
   "cell_type": "code",
   "execution_count": 28,
   "outputs": [],
   "source": [
    "X=pivoted_df.iloc[:, 5:]"
   ],
   "metadata": {
    "collapsed": false,
    "ExecuteTime": {
     "end_time": "2024-06-05T08:07:49.639529600Z",
     "start_time": "2024-06-05T08:07:49.623298200Z"
    }
   },
   "id": "3033223d28b679a2"
  },
  {
   "cell_type": "code",
   "execution_count": 38,
   "outputs": [],
   "source": [
    "# Scale the data\n",
    "scaler = StandardScaler()\n",
    "X_scaled=scaler.fit(X)"
   ],
   "metadata": {
    "collapsed": false,
    "ExecuteTime": {
     "end_time": "2024-06-05T08:14:27.955074700Z",
     "start_time": "2024-06-05T08:14:27.463986300Z"
    }
   },
   "id": "c5c4106034fce85b"
  },
  {
   "cell_type": "code",
   "execution_count": 39,
   "outputs": [
    {
     "data": {
      "text/plain": "IsolationForest(contamination=0.01, max_samples=200, n_jobs=-1, random_state=42)",
      "text/html": "<style>#sk-container-id-1 {color: black;}#sk-container-id-1 pre{padding: 0;}#sk-container-id-1 div.sk-toggleable {background-color: white;}#sk-container-id-1 label.sk-toggleable__label {cursor: pointer;display: block;width: 100%;margin-bottom: 0;padding: 0.3em;box-sizing: border-box;text-align: center;}#sk-container-id-1 label.sk-toggleable__label-arrow:before {content: \"▸\";float: left;margin-right: 0.25em;color: #696969;}#sk-container-id-1 label.sk-toggleable__label-arrow:hover:before {color: black;}#sk-container-id-1 div.sk-estimator:hover label.sk-toggleable__label-arrow:before {color: black;}#sk-container-id-1 div.sk-toggleable__content {max-height: 0;max-width: 0;overflow: hidden;text-align: left;background-color: #f0f8ff;}#sk-container-id-1 div.sk-toggleable__content pre {margin: 0.2em;color: black;border-radius: 0.25em;background-color: #f0f8ff;}#sk-container-id-1 input.sk-toggleable__control:checked~div.sk-toggleable__content {max-height: 200px;max-width: 100%;overflow: auto;}#sk-container-id-1 input.sk-toggleable__control:checked~label.sk-toggleable__label-arrow:before {content: \"▾\";}#sk-container-id-1 div.sk-estimator input.sk-toggleable__control:checked~label.sk-toggleable__label {background-color: #d4ebff;}#sk-container-id-1 div.sk-label input.sk-toggleable__control:checked~label.sk-toggleable__label {background-color: #d4ebff;}#sk-container-id-1 input.sk-hidden--visually {border: 0;clip: rect(1px 1px 1px 1px);clip: rect(1px, 1px, 1px, 1px);height: 1px;margin: -1px;overflow: hidden;padding: 0;position: absolute;width: 1px;}#sk-container-id-1 div.sk-estimator {font-family: monospace;background-color: #f0f8ff;border: 1px dotted black;border-radius: 0.25em;box-sizing: border-box;margin-bottom: 0.5em;}#sk-container-id-1 div.sk-estimator:hover {background-color: #d4ebff;}#sk-container-id-1 div.sk-parallel-item::after {content: \"\";width: 100%;border-bottom: 1px solid gray;flex-grow: 1;}#sk-container-id-1 div.sk-label:hover label.sk-toggleable__label {background-color: #d4ebff;}#sk-container-id-1 div.sk-serial::before {content: \"\";position: absolute;border-left: 1px solid gray;box-sizing: border-box;top: 0;bottom: 0;left: 50%;z-index: 0;}#sk-container-id-1 div.sk-serial {display: flex;flex-direction: column;align-items: center;background-color: white;padding-right: 0.2em;padding-left: 0.2em;position: relative;}#sk-container-id-1 div.sk-item {position: relative;z-index: 1;}#sk-container-id-1 div.sk-parallel {display: flex;align-items: stretch;justify-content: center;background-color: white;position: relative;}#sk-container-id-1 div.sk-item::before, #sk-container-id-1 div.sk-parallel-item::before {content: \"\";position: absolute;border-left: 1px solid gray;box-sizing: border-box;top: 0;bottom: 0;left: 50%;z-index: -1;}#sk-container-id-1 div.sk-parallel-item {display: flex;flex-direction: column;z-index: 1;position: relative;background-color: white;}#sk-container-id-1 div.sk-parallel-item:first-child::after {align-self: flex-end;width: 50%;}#sk-container-id-1 div.sk-parallel-item:last-child::after {align-self: flex-start;width: 50%;}#sk-container-id-1 div.sk-parallel-item:only-child::after {width: 0;}#sk-container-id-1 div.sk-dashed-wrapped {border: 1px dashed gray;margin: 0 0.4em 0.5em 0.4em;box-sizing: border-box;padding-bottom: 0.4em;background-color: white;}#sk-container-id-1 div.sk-label label {font-family: monospace;font-weight: bold;display: inline-block;line-height: 1.2em;}#sk-container-id-1 div.sk-label-container {text-align: center;}#sk-container-id-1 div.sk-container {/* jupyter's `normalize.less` sets `[hidden] { display: none; }` but bootstrap.min.css set `[hidden] { display: none !important; }` so we also need the `!important` here to be able to override the default hidden behavior on the sphinx rendered scikit-learn.org. See: https://github.com/scikit-learn/scikit-learn/issues/21755 */display: inline-block !important;position: relative;}#sk-container-id-1 div.sk-text-repr-fallback {display: none;}</style><div id=\"sk-container-id-1\" class=\"sk-top-container\"><div class=\"sk-text-repr-fallback\"><pre>IsolationForest(contamination=0.01, max_samples=200, n_jobs=-1, random_state=42)</pre><b>In a Jupyter environment, please rerun this cell to show the HTML representation or trust the notebook. <br />On GitHub, the HTML representation is unable to render, please try loading this page with nbviewer.org.</b></div><div class=\"sk-container\" hidden><div class=\"sk-item\"><div class=\"sk-estimator sk-toggleable\"><input class=\"sk-toggleable__control sk-hidden--visually\" id=\"sk-estimator-id-1\" type=\"checkbox\" checked><label for=\"sk-estimator-id-1\" class=\"sk-toggleable__label sk-toggleable__label-arrow\">IsolationForest</label><div class=\"sk-toggleable__content\"><pre>IsolationForest(contamination=0.01, max_samples=200, n_jobs=-1, random_state=42)</pre></div></div></div></div></div>"
     },
     "execution_count": 39,
     "metadata": {},
     "output_type": "execute_result"
    }
   ],
   "source": [
    "# Train Model\n",
    "model = IsolationForest(\n",
    "    n_estimators=100,\n",
    "    max_samples=200,\n",
    "    contamination=0.01,\n",
    "    max_features=1.0,\n",
    "    bootstrap=False,\n",
    "    n_jobs=-1, # Using available processors from computer\n",
    "    random_state=42,\n",
    ")\n",
    "model.fit(X)"
   ],
   "metadata": {
    "collapsed": false,
    "ExecuteTime": {
     "end_time": "2024-06-05T08:14:28.415065200Z",
     "start_time": "2024-06-05T08:14:27.965068900Z"
    }
   },
   "id": "e12c00a3948ce747"
  },
  {
   "cell_type": "code",
   "execution_count": 40,
   "outputs": [],
   "source": [
    "y_pred = model.predict(X)"
   ],
   "metadata": {
    "collapsed": false,
    "ExecuteTime": {
     "end_time": "2024-06-05T08:14:30.454574400Z",
     "start_time": "2024-06-05T08:14:30.204678600Z"
    }
   },
   "id": "945f0cdf18b45a64"
  },
  {
   "cell_type": "code",
   "execution_count": 43,
   "outputs": [
    {
     "data": {
      "text/plain": "account    end_date  ticker reporting_frame    form    unit\n0        1998-12-27     AMD         us-gaap    10-K     USD\n1        2006-09-30    AAPL         us-gaap    10-K     USD\n2        2006-09-30    AAPL         us-gaap  10-K/A     USD\n3        2006-12-31     AIG         us-gaap    10-K     USD\n4        2006-12-31     AIG         us-gaap     8-K     USD\n...             ...     ...             ...     ...     ...\n11089    2024-04-29  BAC-PO             dei    10-Q  shares\n11090    2024-04-29  BAC-PP             dei    10-Q  shares\n11091    2024-04-29  BAC-PQ             dei    10-Q  shares\n11092    2024-04-29  BAC-PS             dei    10-Q  shares\n11093    2024-04-29   BACRP             dei    10-Q  shares\n\n[11094 rows x 5 columns]",
      "text/html": "<div>\n<style scoped>\n    .dataframe tbody tr th:only-of-type {\n        vertical-align: middle;\n    }\n\n    .dataframe tbody tr th {\n        vertical-align: top;\n    }\n\n    .dataframe thead th {\n        text-align: right;\n    }\n</style>\n<table border=\"1\" class=\"dataframe\">\n  <thead>\n    <tr style=\"text-align: right;\">\n      <th>account</th>\n      <th>end_date</th>\n      <th>ticker</th>\n      <th>reporting_frame</th>\n      <th>form</th>\n      <th>unit</th>\n    </tr>\n  </thead>\n  <tbody>\n    <tr>\n      <th>0</th>\n      <td>1998-12-27</td>\n      <td>AMD</td>\n      <td>us-gaap</td>\n      <td>10-K</td>\n      <td>USD</td>\n    </tr>\n    <tr>\n      <th>1</th>\n      <td>2006-09-30</td>\n      <td>AAPL</td>\n      <td>us-gaap</td>\n      <td>10-K</td>\n      <td>USD</td>\n    </tr>\n    <tr>\n      <th>2</th>\n      <td>2006-09-30</td>\n      <td>AAPL</td>\n      <td>us-gaap</td>\n      <td>10-K/A</td>\n      <td>USD</td>\n    </tr>\n    <tr>\n      <th>3</th>\n      <td>2006-12-31</td>\n      <td>AIG</td>\n      <td>us-gaap</td>\n      <td>10-K</td>\n      <td>USD</td>\n    </tr>\n    <tr>\n      <th>4</th>\n      <td>2006-12-31</td>\n      <td>AIG</td>\n      <td>us-gaap</td>\n      <td>8-K</td>\n      <td>USD</td>\n    </tr>\n    <tr>\n      <th>...</th>\n      <td>...</td>\n      <td>...</td>\n      <td>...</td>\n      <td>...</td>\n      <td>...</td>\n    </tr>\n    <tr>\n      <th>11089</th>\n      <td>2024-04-29</td>\n      <td>BAC-PO</td>\n      <td>dei</td>\n      <td>10-Q</td>\n      <td>shares</td>\n    </tr>\n    <tr>\n      <th>11090</th>\n      <td>2024-04-29</td>\n      <td>BAC-PP</td>\n      <td>dei</td>\n      <td>10-Q</td>\n      <td>shares</td>\n    </tr>\n    <tr>\n      <th>11091</th>\n      <td>2024-04-29</td>\n      <td>BAC-PQ</td>\n      <td>dei</td>\n      <td>10-Q</td>\n      <td>shares</td>\n    </tr>\n    <tr>\n      <th>11092</th>\n      <td>2024-04-29</td>\n      <td>BAC-PS</td>\n      <td>dei</td>\n      <td>10-Q</td>\n      <td>shares</td>\n    </tr>\n    <tr>\n      <th>11093</th>\n      <td>2024-04-29</td>\n      <td>BACRP</td>\n      <td>dei</td>\n      <td>10-Q</td>\n      <td>shares</td>\n    </tr>\n  </tbody>\n</table>\n<p>11094 rows × 5 columns</p>\n</div>"
     },
     "execution_count": 43,
     "metadata": {},
     "output_type": "execute_result"
    }
   ],
   "source": [
    "pivoted_df.iloc[:,:5]"
   ],
   "metadata": {
    "collapsed": false,
    "ExecuteTime": {
     "end_time": "2024-06-05T08:16:14.112133100Z",
     "start_time": "2024-06-05T08:16:14.097397500Z"
    }
   },
   "id": "f2737bc1f06f6a36"
  },
  {
   "cell_type": "code",
   "execution_count": 45,
   "outputs": [
    {
     "data": {
      "text/plain": "     end_date ticker reporting_frame    form unit  \\\n0  1998-12-27    AMD         us-gaap    10-K  USD   \n1  2006-09-30   AAPL         us-gaap    10-K  USD   \n2  2006-09-30   AAPL         us-gaap  10-K/A  USD   \n3  2006-12-31    AIG         us-gaap    10-K  USD   \n4  2006-12-31    AIG         us-gaap     8-K  USD   \n\n   AcceleratedShareRepurchasesSettlementPaymentOrReceipt  AccountingProfit  \\\n0                                                  0                     0   \n1                                                  0                     0   \n2                                                  0                     0   \n3                                                  0                     0   \n4                                                  0                     0   \n\n   AccountsPayable  AccountsPayableAndAccruedLiabilitiesCurrentAndNoncurrent  \\\n0                0                                                  0          \n1                0                                                  0          \n2                0                                                  0          \n3                0                                                  0          \n4                0                                                  0          \n\n   AccountsPayableAndOtherAccruedLiabilities  ...  \\\n0                                          0  ...   \n1                                          0  ...   \n2                                          0  ...   \n3                                          0  ...   \n4                                          0  ...   \n\n   WeightedAverageLesseesIncrementalBorrowingRateAppliedToLeaseLiabilitiesRecognisedAtDateOfInitialApplicationOfIFRS16  \\\n0                                                0.0                                                                     \n1                                                0.0                                                                     \n2                                                0.0                                                                     \n3                                                0.0                                                                     \n4                                                0.0                                                                     \n\n   WeightedAverageNumberDilutedSharesOutstandingAdjustment  \\\n0                                                  0         \n1                                                  0         \n2                                                  0         \n3                                                  0         \n4                                                  0         \n\n   WeightedAverageNumberOfDilutedSharesOutstanding  \\\n0                                                0   \n1                                                0   \n2                                                0   \n3                                                0   \n4                                                0   \n\n   WeightedAverageNumberOfShareOutstandingBasicAndDiluted  \\\n0                                                  0        \n1                                                  0        \n2                                                  0        \n3                                                  0        \n4                                                  0        \n\n   WeightedAverageNumberOfSharesContingentlyIssuable  \\\n0                                                  0   \n1                                                  0   \n2                                                  0   \n3                                                  0   \n4                                                  0   \n\n   WeightedAverageNumberOfSharesOutstandingBasic  WeightedAverageShares  \\\n0                                              0                    0.0   \n1                                              0                    0.0   \n2                                              0                    0.0   \n3                                              0                    0.0   \n4                                              0                    0.0   \n\n   WithdrawalFromContractHoldersFunds  WorkersCompensationDiscountAmount  0  \n0                                   0                                  0  1  \n1                                   0                                  0  1  \n2                                   0                                  0  1  \n3                                   0                                  0  1  \n4                                   0                                  0  1  \n\n[5 rows x 3000 columns]",
      "text/html": "<div>\n<style scoped>\n    .dataframe tbody tr th:only-of-type {\n        vertical-align: middle;\n    }\n\n    .dataframe tbody tr th {\n        vertical-align: top;\n    }\n\n    .dataframe thead th {\n        text-align: right;\n    }\n</style>\n<table border=\"1\" class=\"dataframe\">\n  <thead>\n    <tr style=\"text-align: right;\">\n      <th></th>\n      <th>end_date</th>\n      <th>ticker</th>\n      <th>reporting_frame</th>\n      <th>form</th>\n      <th>unit</th>\n      <th>AcceleratedShareRepurchasesSettlementPaymentOrReceipt</th>\n      <th>AccountingProfit</th>\n      <th>AccountsPayable</th>\n      <th>AccountsPayableAndAccruedLiabilitiesCurrentAndNoncurrent</th>\n      <th>AccountsPayableAndOtherAccruedLiabilities</th>\n      <th>...</th>\n      <th>WeightedAverageLesseesIncrementalBorrowingRateAppliedToLeaseLiabilitiesRecognisedAtDateOfInitialApplicationOfIFRS16</th>\n      <th>WeightedAverageNumberDilutedSharesOutstandingAdjustment</th>\n      <th>WeightedAverageNumberOfDilutedSharesOutstanding</th>\n      <th>WeightedAverageNumberOfShareOutstandingBasicAndDiluted</th>\n      <th>WeightedAverageNumberOfSharesContingentlyIssuable</th>\n      <th>WeightedAverageNumberOfSharesOutstandingBasic</th>\n      <th>WeightedAverageShares</th>\n      <th>WithdrawalFromContractHoldersFunds</th>\n      <th>WorkersCompensationDiscountAmount</th>\n      <th>0</th>\n    </tr>\n  </thead>\n  <tbody>\n    <tr>\n      <th>0</th>\n      <td>1998-12-27</td>\n      <td>AMD</td>\n      <td>us-gaap</td>\n      <td>10-K</td>\n      <td>USD</td>\n      <td>0</td>\n      <td>0</td>\n      <td>0</td>\n      <td>0</td>\n      <td>0</td>\n      <td>...</td>\n      <td>0.0</td>\n      <td>0</td>\n      <td>0</td>\n      <td>0</td>\n      <td>0</td>\n      <td>0</td>\n      <td>0.0</td>\n      <td>0</td>\n      <td>0</td>\n      <td>1</td>\n    </tr>\n    <tr>\n      <th>1</th>\n      <td>2006-09-30</td>\n      <td>AAPL</td>\n      <td>us-gaap</td>\n      <td>10-K</td>\n      <td>USD</td>\n      <td>0</td>\n      <td>0</td>\n      <td>0</td>\n      <td>0</td>\n      <td>0</td>\n      <td>...</td>\n      <td>0.0</td>\n      <td>0</td>\n      <td>0</td>\n      <td>0</td>\n      <td>0</td>\n      <td>0</td>\n      <td>0.0</td>\n      <td>0</td>\n      <td>0</td>\n      <td>1</td>\n    </tr>\n    <tr>\n      <th>2</th>\n      <td>2006-09-30</td>\n      <td>AAPL</td>\n      <td>us-gaap</td>\n      <td>10-K/A</td>\n      <td>USD</td>\n      <td>0</td>\n      <td>0</td>\n      <td>0</td>\n      <td>0</td>\n      <td>0</td>\n      <td>...</td>\n      <td>0.0</td>\n      <td>0</td>\n      <td>0</td>\n      <td>0</td>\n      <td>0</td>\n      <td>0</td>\n      <td>0.0</td>\n      <td>0</td>\n      <td>0</td>\n      <td>1</td>\n    </tr>\n    <tr>\n      <th>3</th>\n      <td>2006-12-31</td>\n      <td>AIG</td>\n      <td>us-gaap</td>\n      <td>10-K</td>\n      <td>USD</td>\n      <td>0</td>\n      <td>0</td>\n      <td>0</td>\n      <td>0</td>\n      <td>0</td>\n      <td>...</td>\n      <td>0.0</td>\n      <td>0</td>\n      <td>0</td>\n      <td>0</td>\n      <td>0</td>\n      <td>0</td>\n      <td>0.0</td>\n      <td>0</td>\n      <td>0</td>\n      <td>1</td>\n    </tr>\n    <tr>\n      <th>4</th>\n      <td>2006-12-31</td>\n      <td>AIG</td>\n      <td>us-gaap</td>\n      <td>8-K</td>\n      <td>USD</td>\n      <td>0</td>\n      <td>0</td>\n      <td>0</td>\n      <td>0</td>\n      <td>0</td>\n      <td>...</td>\n      <td>0.0</td>\n      <td>0</td>\n      <td>0</td>\n      <td>0</td>\n      <td>0</td>\n      <td>0</td>\n      <td>0.0</td>\n      <td>0</td>\n      <td>0</td>\n      <td>1</td>\n    </tr>\n  </tbody>\n</table>\n<p>5 rows × 3000 columns</p>\n</div>"
     },
     "execution_count": 45,
     "metadata": {},
     "output_type": "execute_result"
    }
   ],
   "source": [
    "X_df = pd.DataFrame(X)\n",
    "y_pred_df = pd.DataFrame(y_pred)\n",
    "final_df = pd.concat([pivoted_df.iloc[:,:5],X_df , y_pred_df], axis=1)\n",
    "final_df.head()"
   ],
   "metadata": {
    "collapsed": false,
    "ExecuteTime": {
     "end_time": "2024-06-05T08:17:17.592150800Z",
     "start_time": "2024-06-05T08:17:17.503607100Z"
    }
   },
   "id": "49b06929b0f5188a"
  },
  {
   "cell_type": "code",
   "execution_count": 48,
   "outputs": [],
   "source": [
    "anomalies_detected=final_df[final_df[0] == -1]\n",
    "#Creating a df with the list of anomalies\n",
    "anomalies_df = pd.DataFrame(companies_with_anomalies, columns=['id', 'ticker', 'year', 'description'])"
   ],
   "metadata": {
    "collapsed": false,
    "ExecuteTime": {
     "end_time": "2024-06-05T08:22:14.175697700Z",
     "start_time": "2024-06-05T08:22:14.160915200Z"
    }
   },
   "id": "cfc45fd33145ddb6"
  },
  {
   "cell_type": "code",
   "execution_count": 50,
   "outputs": [
    {
     "data": {
      "text/plain": "  ticker  year                       description\n0    BAC  2008  Bank of America (Mortgage fraud)\n1    BAC  2008  Bank of America (Mortgage fraud)\n2    BAC  2008  Bank of America (Mortgage fraud)\n3    BAC  2008  Bank of America (Mortgage fraud)\n4    BAC  2008  Bank of America (Mortgage fraud)\n5    BAC  2008  Bank of America (Mortgage fraud)\n6    BAC  2008  Bank of America (Mortgage fraud)\n7    BAC  2008  Bank of America (Mortgage fraud)",
      "text/html": "<div>\n<style scoped>\n    .dataframe tbody tr th:only-of-type {\n        vertical-align: middle;\n    }\n\n    .dataframe tbody tr th {\n        vertical-align: top;\n    }\n\n    .dataframe thead th {\n        text-align: right;\n    }\n</style>\n<table border=\"1\" class=\"dataframe\">\n  <thead>\n    <tr style=\"text-align: right;\">\n      <th></th>\n      <th>ticker</th>\n      <th>year</th>\n      <th>description</th>\n    </tr>\n  </thead>\n  <tbody>\n    <tr>\n      <th>0</th>\n      <td>BAC</td>\n      <td>2008</td>\n      <td>Bank of America (Mortgage fraud)</td>\n    </tr>\n    <tr>\n      <th>1</th>\n      <td>BAC</td>\n      <td>2008</td>\n      <td>Bank of America (Mortgage fraud)</td>\n    </tr>\n    <tr>\n      <th>2</th>\n      <td>BAC</td>\n      <td>2008</td>\n      <td>Bank of America (Mortgage fraud)</td>\n    </tr>\n    <tr>\n      <th>3</th>\n      <td>BAC</td>\n      <td>2008</td>\n      <td>Bank of America (Mortgage fraud)</td>\n    </tr>\n    <tr>\n      <th>4</th>\n      <td>BAC</td>\n      <td>2008</td>\n      <td>Bank of America (Mortgage fraud)</td>\n    </tr>\n    <tr>\n      <th>5</th>\n      <td>BAC</td>\n      <td>2008</td>\n      <td>Bank of America (Mortgage fraud)</td>\n    </tr>\n    <tr>\n      <th>6</th>\n      <td>BAC</td>\n      <td>2008</td>\n      <td>Bank of America (Mortgage fraud)</td>\n    </tr>\n    <tr>\n      <th>7</th>\n      <td>BAC</td>\n      <td>2008</td>\n      <td>Bank of America (Mortgage fraud)</td>\n    </tr>\n  </tbody>\n</table>\n</div>"
     },
     "execution_count": 50,
     "metadata": {},
     "output_type": "execute_result"
    }
   ],
   "source": [
    "match_anomalies = pd.merge(anomalies_detected, anomalies_df, on='ticker', how='inner')\n",
    "match_anomalies[['ticker', 'year', 'description']]"
   ],
   "metadata": {
    "collapsed": false,
    "ExecuteTime": {
     "end_time": "2024-06-05T08:24:31.921480500Z",
     "start_time": "2024-06-05T08:24:31.911004400Z"
    }
   },
   "id": "9b961ca1151c6369"
  },
  {
   "cell_type": "code",
   "execution_count": null,
   "outputs": [],
   "source": [],
   "metadata": {
    "collapsed": false
   },
   "id": "8d2a2616ef6e6c18"
  }
 ],
 "metadata": {
  "kernelspec": {
   "display_name": "Python 3",
   "language": "python",
   "name": "python3"
  },
  "language_info": {
   "codemirror_mode": {
    "name": "ipython",
    "version": 2
   },
   "file_extension": ".py",
   "mimetype": "text/x-python",
   "name": "python",
   "nbconvert_exporter": "python",
   "pygments_lexer": "ipython2",
   "version": "2.7.6"
  }
 },
 "nbformat": 4,
 "nbformat_minor": 5
}
